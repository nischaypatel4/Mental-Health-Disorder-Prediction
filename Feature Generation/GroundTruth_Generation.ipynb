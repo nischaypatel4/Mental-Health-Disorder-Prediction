{
  "nbformat": 4,
  "nbformat_minor": 0,
  "metadata": {
    "colab": {
      "provenance": []
    },
    "kernelspec": {
      "name": "python3",
      "display_name": "Python 3"
    },
    "language_info": {
      "name": "python"
    }
  },
  "cells": [
    {
      "cell_type": "markdown",
      "source": [
        "#PTSD\n",
        "Usead already given labels in the **detailed_labels.csv**"
      ],
      "metadata": {
        "id": "aExF7tf2O-yI"
      }
    },
    {
      "cell_type": "code",
      "source": [
        "import pandas as pd\n",
        "import numpy as np\n",
        "ptsd_df = pd.read_csv('/content/detailed_lables.csv')\n",
        "ptsd = ptsd_df[['Participant', 'PTSD_label']]\n",
        "ptsd_dict = dict(zip(ptsd['Participant'], ptsd['PTSD_label']))"
      ],
      "metadata": {
        "id": "7r-BV1FamiVw"
      },
      "execution_count": null,
      "outputs": []
    },
    {
      "cell_type": "markdown",
      "source": [
        "#Depression\n",
        "Usead already given labels in the **detailed_labels.csv**"
      ],
      "metadata": {
        "id": "Por2c-hhPBTm"
      }
    },
    {
      "cell_type": "code",
      "source": [
        "Depression_df = pd.read_csv('/content/detailed_lables.csv')\n",
        "Depression = Depression_df[['Participant', 'Depression_label']]\n",
        "Depression_dict = dict(zip(Depression['Participant'], Depression['Depression_label']))"
      ],
      "metadata": {
        "id": "sq_xtcPJnJ5g"
      },
      "execution_count": null,
      "outputs": []
    },
    {
      "cell_type": "markdown",
      "source": [
        "#Appetite\n",
        "Used **PHQ_8Appetite** question and mapped 0,1-->absence and 2,3-->presence."
      ],
      "metadata": {
        "id": "mzJjvgI8PD23"
      }
    },
    {
      "cell_type": "code",
      "source": [
        "dl_df = pd.read_csv('/content/detailed_lables.csv')\n",
        "bins = [0, 1, 3]\n",
        "lab = [0, 1]\n",
        "dl_df['Appetite'] = pd.cut(dl_df['PHQ8_5_Appetite'], bins=bins, labels=lab, right=True, include_lowest=True)\n",
        "dl_df['Appetite'] = dl_df['Appetite'].astype(int)\n",
        "appetite = dl_df[['Participant', 'Appetite']]\n",
        "appetite_dict = dict(zip(appetite['Participant'], appetite['Appetite']))"
      ],
      "metadata": {
        "id": "9MgcUodPrKY0"
      },
      "execution_count": null,
      "outputs": []
    },
    {
      "cell_type": "markdown",
      "source": [
        "# Agency Label Generation Logic:\n",
        "\n",
        "**8PHQ-Based Agency Score**:\n",
        "    PHQ_Agency _Score= (12 - (NoInterest + Depressed + Failure + Concentration)) / 9\n",
        "\n",
        "**PCL-C-Based Agency Score**: \\\\\n",
        "    - Cognitive/Mood Component: Sum of 7 items, scaled by 35 \\\\\n",
        "    - Hyperarousal Component: Sum of 3 items, scaled by 15 \\\\\n",
        "    - PCLC_Agency_Impairment = 0.5 * (Cognitive/Mood + Hyperarousal)\n",
        "    - PCLC_Agency_Score = 1 - PCLC_Agency_Impairment\n",
        "\n",
        "**Average Agency Score**:\n",
        "    Avg_Psychological_Agency = (PHQ_Agency_score + PCLC_Agency_score) / 2\n",
        "\n",
        "**Median Split**:\n",
        "    If Avg_Psychological_Agency >= median → label = 1 (high agency)\n",
        "    Else → label = 0 (low agency)"
      ],
      "metadata": {
        "id": "B1GqxUH1PFsk"
      }
    },
    {
      "cell_type": "code",
      "source": [
        "dl_df = pd.read_csv('/content/detailed_lables.csv')\n",
        "# Step 1: PHQ8 related Agency score\n",
        "dl_df['PHQ8_Agency_score'] = (12 - ( dl_df['PHQ8_1_NoInterest'] + dl_df['PHQ8_2_Depressed'] + dl_df['PHQ8_6_Failure'] + dl_df['PHQ8_7_Concentration'] ) ) / 9\n",
        "\n",
        "# Step 2: Define agency-related columns from PCLC\n",
        "PCLC_CognitiveMood = ((dl_df['PCL-C_8_TroubleRemembering'] + dl_df['PCL-C_9_NoInterest'] + dl_df['PCL-C_10_FeelDistant'] +\n",
        "                        dl_df['PCL-C_11_FeelNumb'] + dl_df['PCL-C_12_Future_Cut_Short'] +\n",
        "                        dl_df['PCL-C_13_Sleep'] +\n",
        "                        dl_df['PCL-C_14_Irritability']) / 35)\n",
        "\n",
        "PCLC_Hyperarousal = ((dl_df['PCL-C_15_Concentration'] +\n",
        "                        dl_df['PCL-C_16_HyperAlert'] + dl_df['PCL-C_17_Jumpy'])/15)\n",
        "\n",
        "dl_df['PCLC_Agency_Impairment'] = (PCLC_CognitiveMood + PCLC_Hyperarousal)*0.5\n",
        "\n",
        "# Step 3: PCLC related Agency score\n",
        "dl_df['PCLC_Agency_score'] = 1 - dl_df['PCLC_Agency_Impairment']\n",
        "\n",
        "# Step 2: Take the average of the two agency scores: PHQ8 and PCLC component\n",
        "dl_df['Avg_Psychological_Agency'] = (dl_df['PCLC_Agency_score'] + dl_df['PHQ8_Agency_score']) / 2\n",
        "\n",
        "# Step 3: Compute the median of the average_psychological_agenecy\n",
        "median_value = dl_df['Avg_Psychological_Agency'].median()\n",
        "\n",
        "# Step 4: Assign 0 if less than median, 1 if greater than or equal to median\n",
        "dl_df['Agency_Split'] = (dl_df['Avg_Psychological_Agency'] >= median_value).astype(int)\n",
        "\n",
        "agency = dl_df[['Participant', 'Agency_Split']]\n",
        "agency_dict = dict(zip(agency['Participant'], agency['Agency_Split']))"
      ],
      "metadata": {
        "id": "rOV70-iMsbtB"
      },
      "execution_count": null,
      "outputs": []
    },
    {
      "cell_type": "markdown",
      "source": [
        "#Anxiety\n",
        "\n",
        "Extracted 9 anxiety-related items from PHQ-8 and PCL-C:\n",
        "**PHQ8**: Sleep, Tired, Concentration, Psychomotor \\\\\n",
        "**PCL-C**: Sleep, Irritability, Concentration, HyperAlert, Jumpy \\\\\n",
        "**Anxiety Score**:\n",
        "For each participant, calculated the total score by summing responses across these 9 items. \\\\\n",
        "**Median Split**:\n",
        "Computed the median Anxiety Score across all participants. \\\\\n",
        "**Binary Label Assignment**:\n",
        "Assigned label 1 if score ≥ median (high anxiety)\n",
        "Assigned label 0 if score < median (low anxiety)"
      ],
      "metadata": {
        "id": "vhPahKF2PIR9"
      }
    },
    {
      "cell_type": "code",
      "source": [
        "dl_df = pd.read_csv('/content/detailed_lables.csv')\n",
        "# Step 1: Define anxiety-related columns from PHQ-8 and PCL-C\n",
        "anxiety_items = [\n",
        "    'PHQ8_3_Sleep',\n",
        "    'PHQ8_4_Tired',\n",
        "    'PHQ8_7_Concentration',\n",
        "    'PHQ8_8_Psychomotor',\n",
        "    'PCL-C_13_Sleep',\n",
        "    'PCL-C_14_Irritability',\n",
        "    'PCL-C_15_Concentration',\n",
        "    'PCL-C_16_HyperAlert',\n",
        "    'PCL-C_17_Jumpy'\n",
        "]\n",
        "\n",
        "# Step 2: Compute the sum score across those columns\n",
        "dl_df['Anxiety_Score'] = dl_df[anxiety_items].sum(axis=1)\n",
        "\n",
        "# Step 3: Compute median of Anxiety_Score\n",
        "median_anxiety = dl_df['Anxiety_Score'].median()\n",
        "\n",
        "# Step 4: Assign binary anxiety label based on median split\n",
        "dl_df['Anxiety_Label'] = (dl_df['Anxiety_Score'] >= median_anxiety).astype(int)\n",
        "\n",
        "anxiety = dl_df[['Participant', 'Anxiety_Label']]\n",
        "anxiety_dict = dict(zip(anxiety['Participant'], anxiety['Anxiety_Label']))"
      ],
      "metadata": {
        "id": "R3Nl5n2CwDGm"
      },
      "execution_count": null,
      "outputs": []
    },
    {
      "cell_type": "markdown",
      "source": [
        "#Sleep\n",
        "Used **PHQ8_3_Sleep** and **PCL-C_13_Sleep** questions and did sum of them and took the median value as threshold for presence or absence."
      ],
      "metadata": {
        "id": "IwegsYHbPKRA"
      }
    },
    {
      "cell_type": "code",
      "source": [
        "dl_df = pd.read_csv('/content/Sleep_Binary_labels.csv')\n",
        "sleep = dl_df[['Participant', 'Sleep_Disorder']]\n",
        "sleep_dict = dict(zip(sleep['Participant'], sleep['Sleep_Disorder']))"
      ],
      "metadata": {
        "id": "5R7kt2UNoeIk"
      },
      "execution_count": null,
      "outputs": []
    },
    {
      "cell_type": "markdown",
      "source": [
        "#GroundTruth Table"
      ],
      "metadata": {
        "id": "LMWZTpDtPOt6"
      }
    },
    {
      "cell_type": "code",
      "source": [
        "ptsd_df = pd.DataFrame(list(ptsd_dict.items()), columns=['Participant_ID', 'PTSD_Label'])\n",
        "depression_df = pd.DataFrame(list(Depression_dict.items()), columns=['Participant_ID', 'Depression_Label'])\n",
        "appetite_df = pd.DataFrame(list(appetite_dict.items()), columns=['Participant_ID', 'Appetite_Label'])\n",
        "agency_df = pd.DataFrame(list(agency_dict.items()), columns=['Participant_ID', 'Agency_Label'])\n",
        "anxiety_df = pd.DataFrame(list(anxiety_dict.items()), columns=['Participant_ID', 'Anxiety_Label'])\n",
        "sleep_df = pd.DataFrame(list(sleep_dict.items()), columns=['Participant_ID', 'Sleep_Label'])\n",
        "\n",
        "# Step 2: Merge all DataFrames on 'Participant_ID'\n",
        "merged_df = ptsd_df \\\n",
        "    .merge(depression_df, on='Participant_ID', how='outer') \\\n",
        "    .merge(appetite_df, on='Participant_ID', how='outer') \\\n",
        "    .merge(agency_df, on='Participant_ID', how='outer') \\\n",
        "    .merge(anxiety_df, on='Participant_ID', how='outer') \\\n",
        "    .merge(sleep_df, on='Participant_ID', how='outer')\n",
        "\n",
        "\n",
        "# Step 3: Save to CSV\n",
        "merged_df.to_csv('mental_health_labels.csv', index=False)"
      ],
      "metadata": {
        "id": "jaWMYoDwyVqQ"
      },
      "execution_count": null,
      "outputs": []
    }
  ]
}