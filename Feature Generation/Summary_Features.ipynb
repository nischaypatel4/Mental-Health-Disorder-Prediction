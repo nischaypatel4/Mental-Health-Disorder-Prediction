{
  "nbformat": 4,
  "nbformat_minor": 0,
  "metadata": {
    "colab": {
      "provenance": [],
      "gpuType": "T4"
    },
    "kernelspec": {
      "name": "python3",
      "display_name": "Python 3"
    },
    "language_info": {
      "name": "python"
    },
    "accelerator": "GPU"
  },
  "cells": [
    {
      "cell_type": "code",
      "source": [
        "# 🧹 Clear any leftover Drive mount first (safe)\n",
        "!fusermount -u /content/drive 2>/dev/null || echo \"Not mounted yet\"\n",
        "!rm -rf /content/drive\n"
      ],
      "metadata": {
        "colab": {
          "base_uri": "https://localhost:8080/"
        },
        "id": "7Q_DlYuumX9w",
        "outputId": "cdf060d9-6fea-42c7-88ac-7f562233592e"
      },
      "execution_count": null,
      "outputs": [
        {
          "output_type": "stream",
          "name": "stdout",
          "text": [
            "Not mounted yet\n"
          ]
        }
      ]
    },
    {
      "cell_type": "code",
      "source": [
        "# 🔗 1. Mount Drive\n",
        "from google.colab import drive\n",
        "drive.mount('/content/drive')\n",
        "\n"
      ],
      "metadata": {
        "colab": {
          "base_uri": "https://localhost:8080/"
        },
        "id": "rlNf1NNCidJt",
        "outputId": "a764b964-68a5-4ff2-d2b3-fbd49340fa06"
      },
      "execution_count": null,
      "outputs": [
        {
          "output_type": "stream",
          "name": "stdout",
          "text": [
            "Mounted at /content/drive\n"
          ]
        }
      ]
    },
    {
      "cell_type": "code",
      "source": [
        "# 📂 2. Setup paths\n",
        "import os\n",
        "ROOT_IN  = '/content/drive/MyDrive/PHQ8_Project/transcripts'\n",
        "ROOT_OUT = '/content/drive/MyDrive/PHQ8_Project/embeddings'\n",
        "FINAL_CSV = '/content/drive/MyDrive/PHQ8_Project/bert_embeddings_all.csv'\n",
        "os.makedirs(ROOT_OUT, exist_ok=True)\n",
        "\n",
        "# 🧪 3. Sanity check: list 5 transcript files\n",
        "import glob\n",
        "files = sorted(glob.glob(f'{ROOT_IN}/*_transcript.csv'))\n",
        "print(f'Found {len(files)} files:')\n",
        "for f in files[:5]:\n",
        "    print('-', os.path.basename(f))\n"
      ],
      "metadata": {
        "colab": {
          "base_uri": "https://localhost:8080/"
        },
        "id": "J72bIwAWmdIL",
        "outputId": "7f2687ea-3706-4dcc-dcef-27c35679998a"
      },
      "execution_count": null,
      "outputs": [
        {
          "output_type": "stream",
          "name": "stdout",
          "text": [
            "Found 265 files:\n",
            "- 300_transcript.csv\n",
            "- 301_transcript.csv\n",
            "- 302_transcript.csv\n",
            "- 303_transcript.csv\n",
            "- 304_transcript.csv\n"
          ]
        }
      ]
    },
    {
      "cell_type": "code",
      "source": [
        "!pip install -q sentence-transformers tqdm\n",
        "\n",
        "from sentence_transformers import SentenceTransformer\n",
        "import pandas as pd, numpy as np\n",
        "import re\n",
        "from tqdm import tqdm\n",
        "\n",
        "model = SentenceTransformer('all-MiniLM-L6-v2')  # 384-dim\n",
        "\n",
        "def pid_from_path(path):\n",
        "    m = re.search(r'/(\\d+)_', path)\n",
        "    return m.group(1) if m else None\n",
        "\n",
        "def find_text_col(df):\n",
        "    candidates = ['text', 'utterance', 'sentence', 'transcript']\n",
        "    cols = [c.lower() for c in df.columns]\n",
        "    for name in candidates:\n",
        "        if name in cols:\n",
        "            return df.columns[cols.index(name)]\n",
        "    return df.columns[0]\n",
        "\n",
        "records = []\n",
        "for path in tqdm(files):\n",
        "    pid = pid_from_path(path)\n",
        "    if not pid:\n",
        "        print(f'Skipping: {path} (no ID found)')\n",
        "        continue\n",
        "\n",
        "    try:\n",
        "        df = pd.read_csv(path, dtype=str)\n",
        "        text_col = find_text_col(df)\n",
        "        text = \" \".join(df[text_col].dropna().astype(str))\n",
        "        vec = model.encode(text, convert_to_numpy=True)\n",
        "    except Exception as e:\n",
        "        print(f\"Error with {path}: {e}\")\n",
        "        continue\n",
        "\n",
        "    cols = [f'bert_{i}' for i in range(vec.size)]\n",
        "    records.append({'participant_id': pid, **dict(zip(cols, vec))})\n",
        "\n",
        "# 💾 Save final embedding table\n",
        "master = pd.DataFrame(records).set_index('participant_id').sort_index()\n",
        "master.to_csv(FINAL_CSV)\n",
        "print(f'✅ Saved: {FINAL_CSV} with shape {master.shape}')\n"
      ],
      "metadata": {
        "colab": {
          "base_uri": "https://localhost:8080/"
        },
        "id": "Mbd47fvsmlsB",
        "outputId": "8b06a885-2850-4130-bd67-f13e5bd87707"
      },
      "execution_count": null,
      "outputs": [
        {
          "output_type": "stream",
          "name": "stderr",
          "text": [
            "100%|██████████| 265/265 [00:09<00:00, 26.62it/s]\n"
          ]
        },
        {
          "output_type": "stream",
          "name": "stdout",
          "text": [
            "✅ Saved: /content/drive/MyDrive/PHQ8_Project/bert_embeddings_all.csv with shape (265, 384)\n"
          ]
        }
      ]
    },
    {
      "cell_type": "code",
      "source": [
        "import glob, os, re\n",
        "from collections import defaultdict\n",
        "\n",
        "# 🔧 Adjust folder paths\n",
        "FOLDERS = {\n",
        "    'eGeMAPS':   '/content/drive/MyDrive/PHQ8_Project/BoAW_eGeMAPS/',\n",
        "    'MFCC':      '/content/drive/MyDrive/PHQ8_Project/BoAW_MFCC/',\n",
        "    'OpenFace':  '/content/drive/MyDrive/PHQ8_Project/BoVW_Pose_Gaze_AUs/',\n",
        "    'BERT':      '/content/drive/MyDrive/PHQ8_Project/transcripts/',\n",
        "}\n",
        "\n",
        "# 🔎 Helper: extract participant ID (e.g., 300 from 300_transcript.csv)\n",
        "def extract_id(filename):\n",
        "    m = re.search(r'(\\d+)', os.path.basename(filename))\n",
        "    return m.group(1) if m else None\n",
        "\n",
        "# 📊 Track participants per folder\n",
        "participants_per_folder = {}\n",
        "all_ids = set()\n",
        "\n",
        "for name, path in FOLDERS.items():\n",
        "    files = glob.glob(f\"{path}/*.csv\") + glob.glob(f\"{path}/*.npy\")\n",
        "    ids = set(filter(None, [extract_id(f) for f in files]))\n",
        "    participants_per_folder[name] = ids\n",
        "    all_ids.update(ids)\n",
        "    print(f\"📂 {name}: {len(ids)} participants\")\n",
        "\n",
        "# 🔍 Optionally: check who is missing from each folder\n",
        "print(\"\\n🔍 Participants missing from folders:\")\n",
        "for name, ids in participants_per_folder.items():\n",
        "    missing = sorted(all_ids - ids)\n",
        "    if missing:\n",
        "        print(f\"❌ {name} is missing {len(missing)} participants: {missing[:10]}{'...' if len(missing) > 10 else ''}\")\n",
        "    else:\n",
        "        print(f\"✅ {name} has all participants.\")\n"
      ],
      "metadata": {
        "colab": {
          "base_uri": "https://localhost:8080/"
        },
        "id": "5aDRS8gYoEnR",
        "outputId": "5307422f-5220-4dfa-a46f-8bb81ece8190"
      },
      "execution_count": null,
      "outputs": [
        {
          "output_type": "stream",
          "name": "stdout",
          "text": [
            "📂 eGeMAPS: 219 participants\n",
            "📂 MFCC: 275 participants\n",
            "📂 OpenFace: 275 participants\n",
            "📂 BERT: 265 participants\n",
            "\n",
            "🔍 Participants missing from folders:\n",
            "❌ eGeMAPS is missing 56 participants: ['600', '602', '604', '605', '606', '607', '609', '615', '618', '619']...\n",
            "✅ MFCC has all participants.\n",
            "✅ OpenFace has all participants.\n",
            "❌ BERT is missing 10 participants: ['673', '677', '680', '684', '692', '695', '697', '702', '703', '707']\n"
          ]
        }
      ]
    },
    {
      "cell_type": "code",
      "source": [
        "import glob, os, re\n",
        "from collections import defaultdict\n",
        "\n",
        "# 🔧 Updated FOLDER paths\n",
        "FOLDERS = {\n",
        "    'eGeMAPS':   '/content/drive/MyDrive/PHQ8_Project/BoAW_eGeMAPS/**',\n",
        "    'MFCC':      '/content/drive/MyDrive/PHQ8_Project/BoAW_MFCC/',\n",
        "    'OpenFace':  '/content/drive/MyDrive/PHQ8_Project/BoVW_Pose_Gaze_AUs/',\n",
        "    'BERT':      '/content/drive/MyDrive/PHQ8_Project/transcripts/',\n",
        "}\n",
        "\n",
        "# 🔍 Extract participant ID from filename\n",
        "def extract_id(filename):\n",
        "    m = re.search(r'(\\d+)', os.path.basename(filename))\n",
        "    return m.group(1) if m else None\n",
        "\n",
        "# 📊 Collect participants per folder\n",
        "participants_per_folder = {}\n",
        "all_ids = set()\n",
        "\n",
        "print(\"🔍 Counting participants per folder...\\n\")\n",
        "\n",
        "for name, path in FOLDERS.items():\n",
        "    # 🪄 Match all .csv/.npy recursively if path ends with **\n",
        "    pattern = f\"{path}/*.csv\" if not path.endswith('**') else f\"{path}/**/*.csv\"\n",
        "    files = glob.glob(pattern, recursive=True) + glob.glob(pattern.replace('.csv', '.npy'), recursive=True)\n",
        "\n",
        "    ids = set(filter(None, [extract_id(f) for f in files]))\n",
        "    participants_per_folder[name] = ids\n",
        "    all_ids.update(ids)\n",
        "\n",
        "    print(f\"📂 {name}: {len(ids)} participants\")\n",
        "\n",
        "# 🧼 Summary of missing participants\n",
        "print(\"\\n🔍 Missing participant check:\")\n",
        "for name, ids in participants_per_folder.items():\n",
        "    missing = sorted(all_ids - ids)\n",
        "    if missing:\n",
        "        print(f\"❌ {name} is missing {len(missing)} participants: {missing[:10]}{'...' if len(missing) > 10 else ''}\")\n",
        "    else:\n",
        "        print(f\"✅ {name} has all participants.\")\n"
      ],
      "metadata": {
        "colab": {
          "base_uri": "https://localhost:8080/"
        },
        "id": "5HXjOYMrtLsy",
        "outputId": "b8fbdf93-d7cf-437c-8ea9-4e28cf5854f0"
      },
      "execution_count": null,
      "outputs": [
        {
          "output_type": "stream",
          "name": "stdout",
          "text": [
            "🔍 Counting participants per folder...\n",
            "\n",
            "📂 eGeMAPS: 275 participants\n",
            "📂 MFCC: 275 participants\n",
            "📂 OpenFace: 275 participants\n",
            "📂 BERT: 265 participants\n",
            "\n",
            "🔍 Missing participant check:\n",
            "✅ eGeMAPS has all participants.\n",
            "✅ MFCC has all participants.\n",
            "✅ OpenFace has all participants.\n",
            "❌ BERT is missing 10 participants: ['673', '677', '680', '684', '692', '695', '697', '702', '703', '707']\n"
          ]
        }
      ]
    },
    {
      "cell_type": "code",
      "source": [
        "import pandas as pd, numpy as np, os, re, glob\n",
        "\n",
        "# Folder structure as defined earlier\n",
        "FOLDERS = {\n",
        "    'eGeMAPS':   '/content/drive/MyDrive/PHQ8_Project/BoAW_eGeMAPS',\n",
        "    'MFCC':      '/content/drive/MyDrive/PHQ8_Project/BoAW_MFCC',\n",
        "    'OpenFace':  '/content/drive/MyDrive/PHQ8_Project/BoVW_Pose_Gaze_AUs',\n",
        "}\n",
        "\n",
        "def extract_pid(path):\n",
        "    m = re.search(r'(\\d+)', os.path.basename(path))\n",
        "    return m.group(1) if m else None\n",
        "\n",
        "def summarize_numeric_df(df, prefix):\n",
        "    df = df.select_dtypes(include=[np.number])\n",
        "    summary = {}\n",
        "    for i, col in enumerate(df.columns):\n",
        "        base = f\"{prefix}_f{i}\"\n",
        "        summary[f\"{base}_mean\"] = df[col].mean()\n",
        "        summary[f\"{base}_std\"] = df[col].std()\n",
        "        summary[f\"{base}_min\"] = df[col].min()\n",
        "        summary[f\"{base}_max\"] = df[col].max()\n",
        "    return summary\n",
        "\n",
        "# Step 1: collect all paths by participant\n",
        "participant_files = {}\n",
        "\n",
        "for modality, folder in FOLDERS.items():\n",
        "    pattern = f\"{folder}/**/*.csv\" if modality == 'eGeMAPS' else f\"{folder}/*.csv\"\n",
        "    paths = glob.glob(pattern, recursive=True)\n",
        "    for path in paths:\n",
        "        pid = extract_pid(path)\n",
        "        if not pid:\n",
        "            continue\n",
        "        participant_files.setdefault(pid, {})[modality] = path\n",
        "\n",
        "# Step 2: summarize each participant\n",
        "rows = []\n",
        "\n",
        "for pid, file_dict in participant_files.items():\n",
        "    row = {}\n",
        "    has_valid_data = False\n",
        "\n",
        "    for modality, path in file_dict.items():\n",
        "        try:\n",
        "            df = pd.read_csv(path, header=None)\n",
        "            stats = summarize_numeric_df(df, modality)\n",
        "            row.update(stats)\n",
        "            has_valid_data = True\n",
        "        except Exception as e:\n",
        "            print(f\"⚠️ Failed to process {modality} for {pid}: {e}\")\n",
        "\n",
        "    if has_valid_data:\n",
        "        row['participant_id'] = pid\n",
        "        rows.append(row)\n",
        "\n",
        "# Step 3: finalize\n",
        "final_df = pd.DataFrame(rows)\n",
        "final_df = final_df.set_index('participant_id')\n",
        "output_path = '/content/drive/MyDrive/PHQ8_Project/final_modality_summary.csv'\n",
        "final_df.to_csv(output_path)\n",
        "\n",
        "print(f\"✅ Final summary saved to {output_path}, shape: {final_df.shape}\")\n"
      ],
      "metadata": {
        "colab": {
          "base_uri": "https://localhost:8080/"
        },
        "id": "PsTdCn19vD-r",
        "outputId": "facd6552-a2bb-45c9-c24a-075606d5d91e"
      },
      "execution_count": null,
      "outputs": [
        {
          "output_type": "stream",
          "name": "stdout",
          "text": [
            "✅ Final summary saved to /content/drive/MyDrive/PHQ8_Project/final_modality_summary.csv, shape: (275, 1212)\n"
          ]
        }
      ]
    },
    {
      "cell_type": "markdown",
      "source": [
        "# The later Part of transcripts\n"
      ],
      "metadata": {
        "id": "KL6fnz-DdTyx"
      }
    },
    {
      "cell_type": "code",
      "source": [
        "import pandas as pd\n",
        "\n",
        "# Paths\n",
        "modality_summary_path = '/content/drive/MyDrive/PHQ8_Project/final_modality_summary.csv'\n",
        "bert_path             = '/content/drive/MyDrive/PHQ8_Project/bert_embeddings_all.csv'\n",
        "output_path           = '/content/drive/MyDrive/PHQ8_Project/final_fused_summary.csv'\n",
        "\n",
        "# Load both\n",
        "modality_df = pd.read_csv(modality_summary_path).set_index('participant_id')\n",
        "bert_df     = pd.read_csv(bert_path).set_index('participant_id')\n",
        "\n",
        "# Merge\n",
        "fused_df = modality_df.join(bert_df, how='inner')  # inner: only participants in both\n",
        "fused_df.to_csv(output_path)\n",
        "\n",
        "print(f\"✅ Final fused dataset saved to {output_path}, shape: {fused_df.shape}\")\n"
      ],
      "metadata": {
        "colab": {
          "base_uri": "https://localhost:8080/"
        },
        "id": "OUhKSzNTwrLl",
        "outputId": "dc1bd27c-f8d2-4f50-8ac8-894c5a087057"
      },
      "execution_count": null,
      "outputs": [
        {
          "output_type": "stream",
          "name": "stdout",
          "text": [
            "✅ Final fused dataset saved to /content/drive/MyDrive/PHQ8_Project/final_fused_summary.csv, shape: (265, 1596)\n"
          ]
        }
      ]
    },
    {
      "cell_type": "code",
      "source": [
        "# 📁 2. File paths\n",
        "import glob, os\n",
        "TRANSCRIPT_DIR = '/content/drive/MyDrive/PHQ8_Project/transcripts'\n",
        "transcript_files = sorted(glob.glob(f'{TRANSCRIPT_DIR}/*_transcript.csv'))\n",
        "\n",
        "print(f'📂 Found {len(transcript_files)} transcript files')\n",
        "\n",
        "# 🧹 3. Basic sanity check\n",
        "import pandas as pd\n",
        "\n",
        "bad_files = []\n",
        "for path in transcript_files:\n",
        "    try:\n",
        "        df = pd.read_csv(path)\n",
        "        assert 'text' in df.columns and 'start' in df.columns and 'end' in df.columns\n",
        "        assert not df['text'].isnull().all()\n",
        "        assert len(df) > 0\n",
        "    except Exception as e:\n",
        "        bad_files.append((os.path.basename(path), str(e)))\n",
        "\n",
        "if bad_files:\n",
        "    print(f\"⚠️ Found {len(bad_files)} problematic files:\")\n",
        "    for name, err in bad_files:\n",
        "        print(f\" - {name}: {err}\")\n",
        "else:\n",
        "    print(\"✅ All transcript files passed basic sanity check.\")"
      ],
      "metadata": {
        "colab": {
          "base_uri": "https://localhost:8080/"
        },
        "id": "fC9jPh_KbONy",
        "outputId": "c3a77112-dd6f-46a1-8bed-0ef081c7197f"
      },
      "execution_count": null,
      "outputs": [
        {
          "output_type": "stream",
          "name": "stdout",
          "text": [
            "📂 Found 275 transcript files\n",
            "✅ All transcript files passed basic sanity check.\n"
          ]
        }
      ]
    },
    {
      "cell_type": "code",
      "source": [
        "import pandas as pd, numpy as np, re\n",
        "from tqdm import tqdm\n",
        "\n",
        "# 🔑 Define useful sets\n",
        "FIRST_PERSON = {'i','me','my','mine','myself'}\n",
        "NEGATIONS    = {'no','not',\"don't\",\"didn't\",\"won't\",\"can't\",\"never\"}\n",
        "\n",
        "# 🛠️ Core extraction function\n",
        "def extract_timing_lexical(path):\n",
        "    df = pd.read_csv(path)\n",
        "    pid = re.search(r'(\\d+)', os.path.basename(path)).group(1)\n",
        "\n",
        "    # text & timestamps\n",
        "    texts = df['text'].dropna().astype(str).tolist()\n",
        "    starts = df['start'].astype(float).tolist()\n",
        "    ends   = df['end'].astype(float).tolist()\n",
        "\n",
        "    features = {}\n",
        "    features['participant_id'] = pid\n",
        "    features['total_utterances'] = len(texts)\n",
        "    features['total_speaking_time'] = max(ends) - min(starts) if ends else 0\n",
        "\n",
        "    # pause durations\n",
        "    pauses = [starts[i] - ends[i-1] for i in range(1, len(starts))]\n",
        "    features['avg_pause_duration'] = np.mean(pauses) if pauses else 0\n",
        "    features['max_pause_duration'] = max(pauses) if pauses else 0\n",
        "\n",
        "    # tokenization\n",
        "    all_text = \" \".join(texts).lower()\n",
        "    words = re.findall(r'\\b\\w+\\b', all_text)\n",
        "\n",
        "    features['total_words'] = len(words)\n",
        "    features['avg_words_per_utterance'] = len(words) / len(texts) if texts else 0\n",
        "    features['avg_word_length'] = np.mean([len(w) for w in words]) if words else 0\n",
        "    features['lexical_diversity'] = len(set(words)) / len(words) if words else 0\n",
        "\n",
        "    features['first_person_pronoun_count'] = sum(w in FIRST_PERSON for w in words)\n",
        "    features['negation_count'] = sum(w in NEGATIONS for w in words)\n",
        "\n",
        "    return features\n",
        "\n",
        "# 🌀 Run over all participants\n",
        "summary_rows = []\n",
        "for path in tqdm(transcript_files):\n",
        "    try:\n",
        "        feats = extract_timing_lexical(path)\n",
        "        summary_rows.append(feats)\n",
        "    except Exception as e:\n",
        "        print(f\"❌ Failed on {path}: {e}\")\n",
        "\n",
        "# 🧾 Save as CSV\n",
        "df_summary = pd.DataFrame(summary_rows).set_index('participant_id').sort_index()\n",
        "OUT_CSV = '/content/drive/MyDrive/PHQ8_Project/transcript_summary_step2.csv'\n",
        "df_summary.to_csv(OUT_CSV)\n",
        "print(f\"✅ Saved: {OUT_CSV} with shape {df_summary.shape}\")\n"
      ],
      "metadata": {
        "colab": {
          "base_uri": "https://localhost:8080/"
        },
        "id": "9QqAy8VacGxR",
        "outputId": "f52a893e-86b2-4315-fc17-eb4fc2fa25f8"
      },
      "execution_count": null,
      "outputs": [
        {
          "output_type": "stream",
          "name": "stderr",
          "text": [
            "100%|██████████| 275/275 [00:02<00:00, 130.46it/s]"
          ]
        },
        {
          "output_type": "stream",
          "name": "stdout",
          "text": [
            "✅ Saved: /content/drive/MyDrive/PHQ8_Project/transcript_summary_step2.csv with shape (275, 10)\n"
          ]
        },
        {
          "output_type": "stream",
          "name": "stderr",
          "text": [
            "\n"
          ]
        }
      ]
    },
    {
      "cell_type": "code",
      "source": [
        "!pip install -q sentence-transformers\n",
        "\n",
        "from sentence_transformers import SentenceTransformer, util"
      ],
      "metadata": {
        "colab": {
          "base_uri": "https://localhost:8080/"
        },
        "id": "Uy77cABXc9sK",
        "outputId": "ee8867aa-b70b-451c-9468-f4d682bb095e"
      },
      "execution_count": null,
      "outputs": [
        {
          "output_type": "stream",
          "name": "stdout",
          "text": [
            "\u001b[2K   \u001b[90m━━━━━━━━━━━━━━━━━━━━━━━━━━━━━━━━━━━━━━━━\u001b[0m \u001b[32m363.4/363.4 MB\u001b[0m \u001b[31m3.9 MB/s\u001b[0m eta \u001b[36m0:00:00\u001b[0m\n",
            "\u001b[2K   \u001b[90m━━━━━━━━━━━━━━━━━━━━━━━━━━━━━━━━━━━━━━━━\u001b[0m \u001b[32m13.8/13.8 MB\u001b[0m \u001b[31m62.7 MB/s\u001b[0m eta \u001b[36m0:00:00\u001b[0m\n",
            "\u001b[2K   \u001b[90m━━━━━━━━━━━━━━━━━━━━━━━━━━━━━━━━━━━━━━━━\u001b[0m \u001b[32m24.6/24.6 MB\u001b[0m \u001b[31m52.4 MB/s\u001b[0m eta \u001b[36m0:00:00\u001b[0m\n",
            "\u001b[2K   \u001b[90m━━━━━━━━━━━━━━━━━━━━━━━━━━━━━━━━━━━━━━━━\u001b[0m \u001b[32m883.7/883.7 kB\u001b[0m \u001b[31m58.5 MB/s\u001b[0m eta \u001b[36m0:00:00\u001b[0m\n",
            "\u001b[2K   \u001b[90m━━━━━━━━━━━━━━━━━━━━━━━━━━━━━━━━━━━━━━━━\u001b[0m \u001b[32m664.8/664.8 MB\u001b[0m \u001b[31m2.0 MB/s\u001b[0m eta \u001b[36m0:00:00\u001b[0m\n",
            "\u001b[2K   \u001b[90m━━━━━━━━━━━━━━━━━━━━━━━━━━━━━━━━━━━━━━━━\u001b[0m \u001b[32m211.5/211.5 MB\u001b[0m \u001b[31m6.1 MB/s\u001b[0m eta \u001b[36m0:00:00\u001b[0m\n",
            "\u001b[2K   \u001b[90m━━━━━━━━━━━━━━━━━━━━━━━━━━━━━━━━━━━━━━━━\u001b[0m \u001b[32m56.3/56.3 MB\u001b[0m \u001b[31m13.2 MB/s\u001b[0m eta \u001b[36m0:00:00\u001b[0m\n",
            "\u001b[2K   \u001b[90m━━━━━━━━━━━━━━━━━━━━━━━━━━━━━━━━━━━━━━━━\u001b[0m \u001b[32m127.9/127.9 MB\u001b[0m \u001b[31m7.3 MB/s\u001b[0m eta \u001b[36m0:00:00\u001b[0m\n",
            "\u001b[2K   \u001b[90m━━━━━━━━━━━━━━━━━━━━━━━━━━━━━━━━━━━━━━━━\u001b[0m \u001b[32m207.5/207.5 MB\u001b[0m \u001b[31m6.1 MB/s\u001b[0m eta \u001b[36m0:00:00\u001b[0m\n",
            "\u001b[2K   \u001b[90m━━━━━━━━━━━━━━━━━━━━━━━━━━━━━━━━━━━━━━━━\u001b[0m \u001b[32m21.1/21.1 MB\u001b[0m \u001b[31m89.0 MB/s\u001b[0m eta \u001b[36m0:00:00\u001b[0m\n",
            "\u001b[?25h"
          ]
        }
      ]
    },
    {
      "cell_type": "code",
      "source": [
        "transcript_files = sorted(glob.glob(f'{TRANSCRIPT_DIR}/*_transcript.csv'))\n",
        "OUT_SEMANTIC = '/content/drive/MyDrive/PHQ8_Project/transcript_summary_step3.csv'\n",
        "\n",
        "# Topics with seed words\n",
        "SEED_TOPICS = {\n",
        "    'sleep':    ['sleep','insomnia','nap','tired','dream'],\n",
        "    'appetite': ['hunger','hungry','eat','snack','appetite'],\n",
        "    'depression': ['sad','hopeless','worthless','down','empty'],\n",
        "    'anxiety':  ['anxious','nervous','worried','panic','fear'],\n",
        "    'stress':   ['stress','stressed','pressure','overwhelmed'],\n",
        "    'ptsd':     ['trauma','flashback','nightmare'],\n",
        "    'harm':     ['suicide','hurt','kill','cut','harm'],\n",
        "}\n",
        "SIM_THRESHOLD = 0.6\n",
        "\n",
        "# Load MiniLM encoder\n",
        "model = SentenceTransformer('all-MiniLM-L6-v2')\n",
        "\n",
        "# Pre-encode seed words per topic\n",
        "seed_embeddings = {\n",
        "    topic: model.encode(words, convert_to_tensor=True)\n",
        "    for topic, words in SEED_TOPICS.items()\n",
        "}\n",
        "\n",
        "# Featurization function\n",
        "def extract_semantic_counts(path):\n",
        "    df = pd.read_csv(path)\n",
        "    pid = re.search(r'(\\d+)', os.path.basename(path)).group(1)\n",
        "    texts = df['text'].dropna().astype(str).tolist()\n",
        "\n",
        "    words = list(set(re.findall(r'\\b\\w+\\b', \" \".join(texts).lower())))\n",
        "    if not words:\n",
        "        return {'participant_id': pid, **{f'{t}_word_count': 0 for t in SEED_TOPICS}}\n",
        "\n",
        "    word_vecs = model.encode(words, convert_to_tensor=True)\n",
        "\n",
        "    topic_counts = {}\n",
        "    for topic, seed_vecs in seed_embeddings.items():\n",
        "        sim = util.cos_sim(word_vecs, seed_vecs)  # shape (len(words), len(seed_words))\n",
        "        counts = (sim.max(dim=1).values > SIM_THRESHOLD).sum().item()\n",
        "        topic_counts[f'{topic}_word_count'] = counts\n",
        "\n",
        "    return {'participant_id': pid, **topic_counts}\n",
        "\n",
        "# Loop over all files\n",
        "semantic_rows = []\n",
        "for path in tqdm(transcript_files):\n",
        "    try:\n",
        "        row = extract_semantic_counts(path)\n",
        "        semantic_rows.append(row)\n",
        "    except Exception as e:\n",
        "        print(f\"❌ Error with {path}: {e}\")\n",
        "\n",
        "# Save to CSV\n",
        "df_semantic = pd.DataFrame(semantic_rows).set_index('participant_id').sort_index()\n",
        "df_semantic.to_csv(OUT_SEMANTIC)\n",
        "print(f\"✅ Saved: {OUT_SEMANTIC} with shape {df_semantic.shape}\")"
      ],
      "metadata": {
        "colab": {
          "base_uri": "https://localhost:8080/"
        },
        "id": "7GSnWOUSdbuz",
        "outputId": "a4a282a4-cfa6-455a-95c1-fc312e615f55"
      },
      "execution_count": null,
      "outputs": [
        {
          "output_type": "stream",
          "name": "stderr",
          "text": [
            "100%|██████████| 275/275 [00:32<00:00,  8.34it/s]"
          ]
        },
        {
          "output_type": "stream",
          "name": "stdout",
          "text": [
            "✅ Saved: /content/drive/MyDrive/PHQ8_Project/transcript_summary_step3.csv with shape (275, 7)\n"
          ]
        },
        {
          "output_type": "stream",
          "name": "stderr",
          "text": [
            "\n"
          ]
        }
      ]
    },
    {
      "cell_type": "code",
      "source": [
        "import pandas as pd\n",
        "\n",
        "# 📍 Paths to Step 2 and Step 3 outputs\n",
        "PATH_STEP2 = '/content/drive/MyDrive/PHQ8_Project/transcript_summary_step2.csv'\n",
        "PATH_STEP3 = '/content/drive/MyDrive/PHQ8_Project/transcript_summary_step3.csv'\n",
        "FINAL_OUT  = '/content/drive/MyDrive/PHQ8_Project/transcript_summary_all.csv'\n",
        "\n",
        "# 🧾 Load both feature tables\n",
        "df_timing = pd.read_csv(PATH_STEP2).set_index('participant_id')\n",
        "df_semantic = pd.read_csv(PATH_STEP3).set_index('participant_id')\n",
        "\n",
        "# 🔗 Join on participant_id\n",
        "df_combined = df_timing.join(df_semantic, how='outer')  # outer to catch all even if mismatch\n",
        "\n",
        "# 💾 Save final combined summary\n",
        "df_combined.to_csv(FINAL_OUT)\n",
        "print(f\"✅ Final summary saved: {FINAL_OUT} — shape: {df_combined.shape}\")\n"
      ],
      "metadata": {
        "colab": {
          "base_uri": "https://localhost:8080/"
        },
        "id": "mDe6gQfuedNd",
        "outputId": "0f9173c7-7331-4798-b3dc-4be71c800a92"
      },
      "execution_count": null,
      "outputs": [
        {
          "output_type": "stream",
          "name": "stdout",
          "text": [
            "✅ Final summary saved: /content/drive/MyDrive/PHQ8_Project/transcript_summary_all.csv — shape: (275, 17)\n"
          ]
        }
      ]
    },
    {
      "cell_type": "code",
      "source": [
        "import pandas as pd\n",
        "\n",
        "# 📍 Paths to both inputs\n",
        "MODALITY_CSV = '/content/drive/MyDrive/PHQ8_Project/final_modality_summary.csv'\n",
        "TRANSCRIPT_CSV = '/content/drive/MyDrive/PHQ8_Project/transcript_summary_all.csv'\n",
        "FINAL_MERGED = '/content/drive/MyDrive/PHQ8_Project/full_participant_summary.csv'\n",
        "\n",
        "# 🔃 Load and merge\n",
        "df_modal = pd.read_csv(MODALITY_CSV).set_index('participant_id')\n",
        "df_trans = pd.read_csv(TRANSCRIPT_CSV).set_index('participant_id')\n",
        "\n",
        "df_merged = df_modal.join(df_trans, how='outer').sort_index()\n",
        "\n",
        "# 🧼 Missing check\n",
        "missing = df_merged.isnull().sum()\n",
        "print(\"🧩 Missing values by column (non-zero only):\")\n",
        "print(missing[missing > 0].sort_values(ascending=False))\n",
        "\n",
        "# 💾 Save final dataset\n",
        "df_merged.to_csv(FINAL_MERGED)\n",
        "print(f\"✅ Final full summary saved: {FINAL_MERGED} — shape: {df_merged.shape}\")\n"
      ],
      "metadata": {
        "id": "pxgWEFVkggt_",
        "outputId": "dab44f10-c8ec-4578-c874-09b357b2dda3",
        "colab": {
          "base_uri": "https://localhost:8080/"
        }
      },
      "execution_count": null,
      "outputs": [
        {
          "output_type": "stream",
          "name": "stdout",
          "text": [
            "🧩 Missing values by column (non-zero only):\n",
            "OpenFace_f100_max    56\n",
            "OpenFace_f0_mean     56\n",
            "OpenFace_f0_std      56\n",
            "OpenFace_f0_min      56\n",
            "OpenFace_f96_max     56\n",
            "                     ..\n",
            "OpenFace_f2_mean     56\n",
            "OpenFace_f1_max      56\n",
            "OpenFace_f1_min      56\n",
            "OpenFace_f1_std      56\n",
            "OpenFace_f1_mean     56\n",
            "Length: 404, dtype: int64\n",
            "✅ Final full summary saved: /content/drive/MyDrive/PHQ8_Project/full_participant_summary.csv — shape: (275, 1229)\n"
          ]
        }
      ]
    },
    {
      "cell_type": "code",
      "source": [
        "import os\n",
        "import pandas as pd\n",
        "import numpy as np\n",
        "import glob\n",
        "\n",
        "# ✅ Define your actual paths here\n",
        "paths = {\n",
        "    'transcript': '/content/drive/MyDrive/PHQ8_Project/transcript_summary_all.csv',\n",
        "    'eGeMAPS': '/content/drive/MyDrive/PHQ8_Project/BoAW_eGeMAPS',\n",
        "    'MFCC': '/content/drive/MyDrive/PHQ8_Project/BoAW_MFCC',\n",
        "    'OpenFace': '/content/drive/MyDrive/PHQ8_Project/BoVW_Pose_Gaze_AUs'\n",
        "}\n",
        "\n",
        "# 🧠 Load transcript summary (participant_id should be a column)\n",
        "transcript_df = pd.read_csv(paths['transcript'])\n",
        "\n",
        "# 🆔 Helper: Extract participant ID from file name (e.g., \"300_...csv\")\n",
        "def extract_pid(filename):\n",
        "    return filename.split(\"_\")[0]\n",
        "\n",
        "# 📊 Stats computation function\n",
        "def compute_statistics(df):\n",
        "    df = df.select_dtypes(include=[np.number])  # only numeric columns\n",
        "    stats = df.agg(['mean', 'std', 'min', 'max']).T\n",
        "    stats.columns = [f\"{stat}\" for stat in stats.columns]\n",
        "    return stats.reset_index(drop=True).iloc[0]\n",
        "\n",
        "# 🔁 General processor for any modality folder (recursive)\n",
        "def process_modality_folder(folder_path, modality_name):\n",
        "    summary_dict = {}\n",
        "\n",
        "    # 🔍 Get all .csv files in folder and subfolders\n",
        "    csv_files = glob.glob(os.path.join(folder_path, \"**/*.csv\"), recursive=True)\n",
        "\n",
        "    for file_path in csv_files:\n",
        "        filename = os.path.basename(file_path)\n",
        "        pid = extract_pid(filename)\n",
        "\n",
        "        try:\n",
        "            df = pd.read_csv(file_path)\n",
        "            stats = compute_statistics(df)\n",
        "            stats.index = [f\"{modality_name}_{col}\" for col in stats.index]\n",
        "            summary_dict[pid] = stats\n",
        "        except Exception as e:\n",
        "            print(f\"❌ Error processing {filename}: {e}\")\n",
        "\n",
        "    return pd.DataFrame.from_dict(summary_dict, orient='index').reset_index().rename(columns={'index': 'participant_id'})\n",
        "\n",
        "# 🔄 Process all modalities\n",
        "ege_df = process_modality_folder(paths['eGeMAPS'], \"eGeMAPS\")\n",
        "mfcc_df = process_modality_folder(paths['MFCC'], \"MFCC\")\n",
        "openface_df = process_modality_folder(paths['OpenFace'], \"OpenFace\")\n",
        "\n",
        "# 🧬 Merge all with transcript summary\n",
        "merged = transcript_df.copy()\n",
        "merged['participant_id'] = merged['participant_id'].astype(str)\n",
        "\n",
        "for df in [ege_df, mfcc_df, openface_df]:\n",
        "    df['participant_id'] = df['participant_id'].astype(str)\n",
        "    merged = pd.merge(merged, df, on='participant_id', how='left')\n",
        "\n",
        "# 💾 Save final output\n",
        "output_path = '/content/drive/MyDrive/PHQ8_Project/final_multimodal_summary.csv'\n",
        "merged.to_csv(output_path, index=False)\n",
        "\n",
        "print(f\"✅ Final multimodal summary saved at: {output_path}\")\n"
      ],
      "metadata": {
        "colab": {
          "base_uri": "https://localhost:8080/"
        },
        "id": "QzW9j0LupqEx",
        "outputId": "30e2c6ff-a8b4-4cbc-e642-9822076efd0e"
      },
      "execution_count": null,
      "outputs": [
        {
          "output_type": "stream",
          "name": "stdout",
          "text": [
            "❌ Error processing 600_BoVW_openFace_2.1.0_Pose_Gaze_AUs.csv: No objects to concatenate\n",
            "❌ Error processing 602_BoVW_openFace_2.1.0_Pose_Gaze_AUs.csv: No objects to concatenate\n",
            "❌ Error processing 604_BoVW_openFace_2.1.0_Pose_Gaze_AUs.csv: No objects to concatenate\n",
            "❌ Error processing 605_BoVW_openFace_2.1.0_Pose_Gaze_AUs.csv: No objects to concatenate\n",
            "❌ Error processing 606_BoVW_openFace_2.1.0_Pose_Gaze_AUs.csv: No objects to concatenate\n",
            "❌ Error processing 607_BoVW_openFace_2.1.0_Pose_Gaze_AUs.csv: No objects to concatenate\n",
            "❌ Error processing 609_BoVW_openFace_2.1.0_Pose_Gaze_AUs.csv: No objects to concatenate\n",
            "❌ Error processing 615_BoVW_openFace_2.1.0_Pose_Gaze_AUs.csv: No objects to concatenate\n",
            "❌ Error processing 618_BoVW_openFace_2.1.0_Pose_Gaze_AUs.csv: No objects to concatenate\n",
            "❌ Error processing 619_BoVW_openFace_2.1.0_Pose_Gaze_AUs.csv: No objects to concatenate\n",
            "❌ Error processing 620_BoVW_openFace_2.1.0_Pose_Gaze_AUs.csv: No objects to concatenate\n",
            "❌ Error processing 622_BoVW_openFace_2.1.0_Pose_Gaze_AUs.csv: No objects to concatenate\n",
            "❌ Error processing 623_BoVW_openFace_2.1.0_Pose_Gaze_AUs.csv: No objects to concatenate\n",
            "❌ Error processing 624_BoVW_openFace_2.1.0_Pose_Gaze_AUs.csv: No objects to concatenate\n",
            "❌ Error processing 625_BoVW_openFace_2.1.0_Pose_Gaze_AUs.csv: No objects to concatenate\n",
            "❌ Error processing 626_BoVW_openFace_2.1.0_Pose_Gaze_AUs.csv: No objects to concatenate\n",
            "❌ Error processing 629_BoVW_openFace_2.1.0_Pose_Gaze_AUs.csv: No objects to concatenate\n",
            "❌ Error processing 631_BoVW_openFace_2.1.0_Pose_Gaze_AUs.csv: No objects to concatenate\n",
            "❌ Error processing 634_BoVW_openFace_2.1.0_Pose_Gaze_AUs.csv: No objects to concatenate\n",
            "❌ Error processing 635_BoVW_openFace_2.1.0_Pose_Gaze_AUs.csv: No objects to concatenate\n",
            "❌ Error processing 636_BoVW_openFace_2.1.0_Pose_Gaze_AUs.csv: No objects to concatenate\n",
            "❌ Error processing 637_BoVW_openFace_2.1.0_Pose_Gaze_AUs.csv: No objects to concatenate\n",
            "❌ Error processing 638_BoVW_openFace_2.1.0_Pose_Gaze_AUs.csv: No objects to concatenate\n",
            "❌ Error processing 640_BoVW_openFace_2.1.0_Pose_Gaze_AUs.csv: No objects to concatenate\n",
            "❌ Error processing 649_BoVW_openFace_2.1.0_Pose_Gaze_AUs.csv: No objects to concatenate\n",
            "❌ Error processing 650_BoVW_openFace_2.1.0_Pose_Gaze_AUs.csv: No objects to concatenate\n",
            "❌ Error processing 651_BoVW_openFace_2.1.0_Pose_Gaze_AUs.csv: No objects to concatenate\n",
            "❌ Error processing 652_BoVW_openFace_2.1.0_Pose_Gaze_AUs.csv: No objects to concatenate\n",
            "❌ Error processing 655_BoVW_openFace_2.1.0_Pose_Gaze_AUs.csv: No objects to concatenate\n",
            "❌ Error processing 656_BoVW_openFace_2.1.0_Pose_Gaze_AUs.csv: No objects to concatenate\n",
            "❌ Error processing 658_BoVW_openFace_2.1.0_Pose_Gaze_AUs.csv: No objects to concatenate\n",
            "❌ Error processing 659_BoVW_openFace_2.1.0_Pose_Gaze_AUs.csv: No objects to concatenate\n",
            "❌ Error processing 661_BoVW_openFace_2.1.0_Pose_Gaze_AUs.csv: No objects to concatenate\n",
            "❌ Error processing 663_BoVW_openFace_2.1.0_Pose_Gaze_AUs.csv: No objects to concatenate\n",
            "❌ Error processing 664_BoVW_openFace_2.1.0_Pose_Gaze_AUs.csv: No objects to concatenate\n",
            "❌ Error processing 666_BoVW_openFace_2.1.0_Pose_Gaze_AUs.csv: No objects to concatenate\n",
            "❌ Error processing 669_BoVW_openFace_2.1.0_Pose_Gaze_AUs.csv: No objects to concatenate\n",
            "❌ Error processing 676_BoVW_openFace_2.1.0_Pose_Gaze_AUs.csv: No objects to concatenate\n",
            "❌ Error processing 679_BoVW_openFace_2.1.0_Pose_Gaze_AUs.csv: No objects to concatenate\n",
            "❌ Error processing 682_BoVW_openFace_2.1.0_Pose_Gaze_AUs.csv: No objects to concatenate\n",
            "❌ Error processing 683_BoVW_openFace_2.1.0_Pose_Gaze_AUs.csv: No objects to concatenate\n",
            "❌ Error processing 688_BoVW_openFace_2.1.0_Pose_Gaze_AUs.csv: No objects to concatenate\n",
            "❌ Error processing 689_BoVW_openFace_2.1.0_Pose_Gaze_AUs.csv: No objects to concatenate\n",
            "❌ Error processing 691_BoVW_openFace_2.1.0_Pose_Gaze_AUs.csv: No objects to concatenate\n",
            "❌ Error processing 693_BoVW_openFace_2.1.0_Pose_Gaze_AUs.csv: No objects to concatenate\n",
            "❌ Error processing 696_BoVW_openFace_2.1.0_Pose_Gaze_AUs.csv: No objects to concatenate\n",
            "❌ Error processing 699_BoVW_openFace_2.1.0_Pose_Gaze_AUs.csv: No objects to concatenate\n",
            "❌ Error processing 705_BoVW_openFace_2.1.0_Pose_Gaze_AUs.csv: No objects to concatenate\n",
            "❌ Error processing 708_BoVW_openFace_2.1.0_Pose_Gaze_AUs.csv: No objects to concatenate\n",
            "❌ Error processing 709_BoVW_openFace_2.1.0_Pose_Gaze_AUs.csv: No objects to concatenate\n",
            "❌ Error processing 710_BoVW_openFace_2.1.0_Pose_Gaze_AUs.csv: No objects to concatenate\n",
            "❌ Error processing 712_BoVW_openFace_2.1.0_Pose_Gaze_AUs.csv: No objects to concatenate\n",
            "❌ Error processing 715_BoVW_openFace_2.1.0_Pose_Gaze_AUs.csv: No objects to concatenate\n",
            "❌ Error processing 716_BoVW_openFace_2.1.0_Pose_Gaze_AUs.csv: No objects to concatenate\n",
            "❌ Error processing 717_BoVW_openFace_2.1.0_Pose_Gaze_AUs.csv: No objects to concatenate\n",
            "❌ Error processing 718_BoVW_openFace_2.1.0_Pose_Gaze_AUs.csv: No objects to concatenate\n",
            "✅ Final multimodal summary saved at: /content/drive/MyDrive/PHQ8_Project/final_multimodal_summary.csv\n"
          ]
        }
      ]
    },
    {
      "cell_type": "code",
      "source": [
        "import os\n",
        "import pandas as pd\n",
        "import numpy as np\n",
        "import glob\n",
        "\n",
        "# ✅ Path setup (adjust if needed)\n",
        "paths = {\n",
        "    'transcript': '/content/drive/MyDrive/PHQ8_Project/transcript_summary_all.csv',\n",
        "    'eGeMAPS': '/content/drive/MyDrive/PHQ8_Project/BoAW_eGeMAPS',\n",
        "    'MFCC': '/content/drive/MyDrive/PHQ8_Project/BoAW_MFCC',\n",
        "    'OpenFace': '/content/drive/MyDrive/PHQ8_Project/BoVW_Pose_Gaze_AUs'\n",
        "}\n",
        "\n",
        "# 🧠 Load transcript summary\n",
        "transcript_df = pd.read_csv(paths['transcript'])\n",
        "transcript_df['participant_id'] = transcript_df['participant_id'].astype(str)\n",
        "\n",
        "# 🆔 Extract participant ID from file name (e.g., 600_...)\n",
        "def extract_pid(filename):\n",
        "    return filename.split(\"_\")[0]\n",
        "\n",
        "# 🔍 Smart separator detector\n",
        "def smart_read_csv(file_path):\n",
        "    with open(file_path, 'r') as f:\n",
        "        sample = f.readline()\n",
        "        delimiter = ',' if sample.count(',') > sample.count(';') else ';'\n",
        "    return pd.read_csv(file_path, sep=delimiter)\n",
        "\n",
        "# 📊 Compute basic stats\n",
        "def compute_statistics(df):\n",
        "    df = df.select_dtypes(include=[np.number])\n",
        "    if df.empty or df.dropna(how='all').empty:\n",
        "        raise ValueError(\"Empty or all-NaN dataframe\")\n",
        "    stats = df.agg(['mean', 'std', 'min', 'max']).T\n",
        "    stats.columns = [f\"{stat}\" for stat in stats.columns]\n",
        "    return stats.reset_index(drop=True).iloc[0]\n",
        "\n",
        "# 🔁 Process each modality folder recursively\n",
        "def process_modality_folder(folder_path, modality_name):\n",
        "    summary_dict = {}\n",
        "    csv_files = glob.glob(os.path.join(folder_path, \"**/*.csv\"), recursive=True)\n",
        "\n",
        "    for file_path in csv_files:\n",
        "        filename = os.path.basename(file_path)\n",
        "        pid = extract_pid(filename)\n",
        "\n",
        "        try:\n",
        "            df = smart_read_csv(file_path)\n",
        "            stats = compute_statistics(df)\n",
        "            stats.index = [f\"{modality_name}_{col}\" for col in stats.index]\n",
        "            summary_dict[pid] = stats\n",
        "        except Exception as e:\n",
        "            print(f\"❌ Error processing {filename}: {e}\")\n",
        "\n",
        "    return pd.DataFrame.from_dict(summary_dict, orient='index').reset_index().rename(columns={'index': 'participant_id'})\n",
        "\n",
        "# 🔄 Process all three modalities\n",
        "ege_df = process_modality_folder(paths['eGeMAPS'], \"eGeMAPS\")\n",
        "mfcc_df = process_modality_folder(paths['MFCC'], \"MFCC\")\n",
        "openface_df = process_modality_folder(paths['OpenFace'], \"OpenFace\")\n",
        "\n",
        "# 🧬 Merge with transcript\n",
        "merged = transcript_df.copy()\n",
        "for df in [ege_df, mfcc_df, openface_df]:\n",
        "    df['participant_id'] = df['participant_id'].astype(str)\n",
        "    merged = pd.merge(merged, df, on='participant_id', how='left')\n",
        "\n",
        "# 💾 Save output\n",
        "output_path = '/content/drive/MyDrive/PHQ8_Project/final_multimodal_summary.csv'\n",
        "merged.to_csv(output_path, index=False)\n",
        "\n",
        "print(f\"✅ Final multimodal summary saved at: {output_path}\")\n"
      ],
      "metadata": {
        "colab": {
          "base_uri": "https://localhost:8080/"
        },
        "id": "2BR74liCtojf",
        "outputId": "b1b58a8f-5911-4800-dfa1-eb88631f9231"
      },
      "execution_count": null,
      "outputs": [
        {
          "output_type": "stream",
          "name": "stdout",
          "text": [
            "✅ Final multimodal summary saved at: /content/drive/MyDrive/PHQ8_Project/final_multimodal_summary.csv\n"
          ]
        }
      ]
    },
    {
      "cell_type": "code",
      "source": [
        "import pandas as pd, numpy as np, os, glob, re\n",
        "from tqdm import tqdm\n",
        "\n",
        "# 📁 Set path\n",
        "OPENFACE_DIR = '/content/drive/MyDrive/PHQ8_Project/BoVW_Pose_Gaze_AUs'\n",
        "OUT_CSV = '/content/drive/MyDrive/PHQ8_Project/BoVW_openface_summary.csv'\n",
        "\n",
        "# ✅ Safe CSV loader with semicolon fallback\n",
        "def safe_read_openface(path):\n",
        "    try:\n",
        "        df = pd.read_csv(path)\n",
        "        if df.shape[1] == 1:\n",
        "            df = pd.read_csv(path, sep=';')\n",
        "        if df.shape[1] < 10:\n",
        "            raise ValueError(\"Too few columns\")\n",
        "        return df.select_dtypes(include=np.number)\n",
        "    except Exception as e:\n",
        "        print(f\"❌ Skipping {os.path.basename(path)}: {e}\")\n",
        "        return None\n",
        "\n",
        "# 📊 Summary function\n",
        "def summarize_openface_file(path):\n",
        "    pid = re.search(r'(\\d+)', os.path.basename(path)).group(1)\n",
        "    df = safe_read_openface(path)\n",
        "    if df is None or df.empty:\n",
        "        return None\n",
        "\n",
        "    stats = {}\n",
        "    for col in df.columns:\n",
        "        stats[f'{col}_mean'] = df[col].mean()\n",
        "        stats[f'{col}_std'] = df[col].std()\n",
        "        stats[f'{col}_min'] = df[col].min()\n",
        "        stats[f'{col}_max'] = df[col].max()\n",
        "    stats['participant_id'] = pid\n",
        "    return stats\n",
        "\n",
        "# 🔄 Loop through all OpenFace files\n",
        "paths = sorted(glob.glob(f'{OPENFACE_DIR}/*.csv'))\n",
        "rows = [summarize_openface_file(p) for p in tqdm(paths)]\n",
        "rows = [r for r in rows if r is not None]\n",
        "\n",
        "# 💾 Save summary\n",
        "df_summary = pd.DataFrame(rows).set_index('participant_id').sort_index()\n",
        "df_summary.to_csv(OUT_CSV)\n",
        "print(f\"✅ BoVW summary saved: {OUT_CSV} with shape {df_summary.shape}\")\n"
      ],
      "metadata": {
        "colab": {
          "base_uri": "https://localhost:8080/"
        },
        "id": "_tyKHKhpzaE7",
        "outputId": "9b8055b1-182f-4b17-daf4-47201ef5246c"
      },
      "execution_count": null,
      "outputs": [
        {
          "output_type": "stream",
          "name": "stderr",
          "text": [
            "100%|██████████| 276/276 [00:37<00:00,  7.30it/s]\n"
          ]
        },
        {
          "output_type": "stream",
          "name": "stdout",
          "text": [
            "✅ BoVW summary saved: /content/drive/MyDrive/PHQ8_Project/BoVW_openface_summary.csv with shape (276, 744)\n"
          ]
        }
      ]
    },
    {
      "cell_type": "code",
      "source": [
        "from google.colab import drive\n",
        "drive.mount('/content/drive')"
      ],
      "metadata": {
        "colab": {
          "base_uri": "https://localhost:8080/"
        },
        "id": "Jd0vLug9PyH9",
        "outputId": "9b7f1bae-3edf-4714-883c-a60e5ae8e5ef"
      },
      "execution_count": null,
      "outputs": [
        {
          "output_type": "stream",
          "name": "stdout",
          "text": [
            "Mounted at /content/drive\n"
          ]
        }
      ]
    },
    {
      "cell_type": "code",
      "source": [
        "import pandas as pd\n",
        "\n",
        "# Load a clean file to use as column reference\n",
        "ref_path = '/content/drive/MyDrive/PHQ8_Project/BoVW_Pose_Gaze_AUs/301_BoVW_openFace_2.1.0_Pose_Gaze_AUs.csv'\n",
        "ref_df = pd.read_csv(ref_path)\n",
        "ref_columns = ref_df.select_dtypes(include='number').columns.tolist()\n"
      ],
      "metadata": {
        "id": "6gwBIGCyPpJS"
      },
      "execution_count": null,
      "outputs": []
    },
    {
      "cell_type": "code",
      "source": [
        "import os\n",
        "\n",
        "def safe_read_openface(path, ref_columns=None):\n",
        "    try:\n",
        "        df = pd.read_csv(path)\n",
        "        if df.shape[1] == 1:\n",
        "            df = pd.read_csv(path, sep=';')\n",
        "\n",
        "        # Drop filename string column if present\n",
        "        first_col = df.columns[0]\n",
        "        if df[first_col].astype(str).str.contains('.csv').all():\n",
        "            df = df.drop(columns=[first_col])\n",
        "\n",
        "        # Keep only numeric columns\n",
        "        df = df.select_dtypes(include='number')\n",
        "\n",
        "        # Rename to match reference if shape matches\n",
        "        if ref_columns and len(df.columns) == len(ref_columns):\n",
        "            df.columns = ref_columns\n",
        "\n",
        "        return df if not df.empty else None\n",
        "\n",
        "    except Exception as e:\n",
        "        print(f\"❌ Skipping {os.path.basename(path)}: {e}\")\n",
        "        return None\n"
      ],
      "metadata": {
        "id": "wcnomKsWP9PO"
      },
      "execution_count": null,
      "outputs": []
    },
    {
      "cell_type": "code",
      "source": [
        "import numpy as np\n",
        "import re\n",
        "\n",
        "def summarize_openface_file(path, ref_columns):\n",
        "    pid = re.search(r'(\\d+)', os.path.basename(path)).group(1)\n",
        "    df = safe_read_openface(path, ref_columns)\n",
        "    if df is None:\n",
        "        return None\n",
        "\n",
        "    summary = {}\n",
        "    for col in df.columns:\n",
        "        summary[f'{col}_mean'] = df[col].mean()\n",
        "        summary[f'{col}_std'] = df[col].std()\n",
        "        summary[f'{col}_min'] = df[col].min()\n",
        "        summary[f'{col}_max'] = df[col].max()\n",
        "\n",
        "    summary['participant_id'] = pid\n",
        "    return summary\n"
      ],
      "metadata": {
        "id": "01z41hdwQKLe"
      },
      "execution_count": null,
      "outputs": []
    },
    {
      "cell_type": "code",
      "source": [
        "import glob\n",
        "from tqdm import tqdm\n",
        "\n",
        "OPENFACE_DIR = '/content/drive/MyDrive/PHQ8_Project/BoVW_Pose_Gaze_AUs'\n",
        "OUT_CSV = '/content/drive/MyDrive/PHQ8_Project/BoVW_openface_summary_all_cleaned.csv'\n",
        "\n",
        "# List all OpenFace CSV files\n",
        "all_files = sorted(glob.glob(f'{OPENFACE_DIR}/*.csv'))\n",
        "\n",
        "# Build summary row for each file\n",
        "rows = []\n",
        "for path in tqdm(all_files):\n",
        "    summary = summarize_openface_file(path, ref_columns)\n",
        "    if summary:\n",
        "        rows.append(summary)\n",
        "\n",
        "# Create final dataframe\n",
        "summary_df = pd.DataFrame(rows).set_index('participant_id').sort_index()\n",
        "summary_df.to_csv(OUT_CSV)\n",
        "\n",
        "print(f\"✅ Final summary saved: {OUT_CSV} — Shape: {summary_df.shape}\")\n"
      ],
      "metadata": {
        "colab": {
          "base_uri": "https://localhost:8080/"
        },
        "id": "_9etMFItQPP7",
        "outputId": "b7483d92-b3b9-447c-bbaf-32e7a67979e9"
      },
      "execution_count": null,
      "outputs": [
        {
          "output_type": "stream",
          "name": "stderr",
          "text": [
            "100%|██████████| 276/276 [00:47<00:00,  5.75it/s]"
          ]
        },
        {
          "output_type": "stream",
          "name": "stdout",
          "text": [
            "✅ Final summary saved: /content/drive/MyDrive/PHQ8_Project/BoVW_openface_summary_all_cleaned.csv — Shape: (276, 404)\n"
          ]
        },
        {
          "output_type": "stream",
          "name": "stderr",
          "text": [
            "\n"
          ]
        }
      ]
    },
    {
      "cell_type": "code",
      "source": [
        "from google.colab import drive\n",
        "drive.mount('/content/drive')"
      ],
      "metadata": {
        "colab": {
          "base_uri": "https://localhost:8080/"
        },
        "id": "kjZGSowJX4Mq",
        "outputId": "7b65aa28-c911-45a2-c686-8b633fef51a6"
      },
      "execution_count": null,
      "outputs": [
        {
          "output_type": "stream",
          "name": "stdout",
          "text": [
            "Drive already mounted at /content/drive; to attempt to forcibly remount, call drive.mount(\"/content/drive\", force_remount=True).\n"
          ]
        }
      ]
    },
    {
      "cell_type": "code",
      "source": [
        "import pandas as pd\n",
        "\n",
        "# Load the OpenFace summary CSV\n",
        "summary_path = '/content/drive/MyDrive/PHQ8_Project/BoVW_openface_summary_all_cleaned.csv'\n",
        "df = pd.read_csv(summary_path)\n",
        "\n",
        "# Load a clean file (e.g., 301) for reference column names\n",
        "ref_301 = pd.read_csv('/content/drive/MyDrive/PHQ8_Project/BoVW_Pose_Gaze_AUs/301_BoVW_openFace_2.1.0_Pose_Gaze_AUs.csv')\n",
        "ref_cols = ref_301.select_dtypes(include='number').columns.tolist()\n"
      ],
      "metadata": {
        "id": "IlLI-QAqX7Uc"
      },
      "execution_count": null,
      "outputs": []
    },
    {
      "cell_type": "code",
      "source": [
        "# Dictionary for renaming known OpenFace features\n",
        "pretty_map = {\n",
        "    'pose_Tx': 'head_pos_x',\n",
        "    'pose_Ty': 'head_pos_y',\n",
        "    'pose_Tz': 'head_pos_z',\n",
        "    'pose_Rx': 'head_rot_x',\n",
        "    'pose_Ry': 'head_rot_y',\n",
        "    'pose_Rz': 'head_rot_z',\n",
        "    'gaze_angle_x': 'gaze_dir_x',\n",
        "    'gaze_angle_y': 'gaze_dir_y',\n",
        "    'AU01_r': 'inner_brow_raise',\n",
        "    'AU02_r': 'outer_brow_raise',\n",
        "    'AU04_r': 'brow_lower',\n",
        "    'AU05_r': 'upper_lid_raise',\n",
        "    'AU06_r': 'cheek_raise',\n",
        "    'AU07_r': 'lid_tighten',\n",
        "    'AU09_r': 'nose_wrinkle',\n",
        "    'AU10_r': 'upper_lip_raise',\n",
        "    'AU12_r': 'lip_corner_pull',\n",
        "    'AU14_r': 'dimpler',\n",
        "    'AU15_r': 'lip_corner_depress',\n",
        "    'AU17_r': 'chin_raise',\n",
        "    'AU20_r': 'lip_stretch',\n",
        "    'AU23_r': 'lip_tighten',\n",
        "    'AU25_r': 'lips_part',\n",
        "    'AU26_r': 'jaw_drop',\n",
        "    'AU28_r': 'lip_suck',\n",
        "    'AU45_r': 'blink'\n",
        "}\n"
      ],
      "metadata": {
        "id": "GqwdD4vJYS6J"
      },
      "execution_count": null,
      "outputs": []
    },
    {
      "cell_type": "code",
      "source": [
        "rename_dict = {}\n",
        "for raw_col in ref_cols:\n",
        "    readable = pretty_map.get(raw_col, raw_col)\n",
        "    for stat in ['mean', 'std', 'min', 'max']:\n",
        "        full_raw = f'{raw_col}_{stat}'\n",
        "        full_new = f'{readable}_{stat}'\n",
        "        rename_dict[full_raw] = full_new\n"
      ],
      "metadata": {
        "id": "5bKZUTEIYWX-"
      },
      "execution_count": null,
      "outputs": []
    },
    {
      "cell_type": "code",
      "source": [
        "# Filter columns: only those that exist in our renaming dict + participant_id\n",
        "valid_cols = ['participant_id'] + [col for col in df.columns if col in rename_dict]\n",
        "\n",
        "# Subset and rename\n",
        "df_clean = df[valid_cols].rename(columns=rename_dict)\n"
      ],
      "metadata": {
        "id": "wW_YbYzFYZxb"
      },
      "execution_count": null,
      "outputs": []
    },
    {
      "cell_type": "code",
      "source": [
        "out_path = '/content/drive/MyDrive/PHQ8_Project/BoVW_openface_summary_cleaned_named.csv'\n",
        "df_clean.to_csv(out_path, index=False)\n",
        "\n",
        "print(f'✅ Saved cleaned summary to {out_path} — shape: {df_clean.shape}')\n"
      ],
      "metadata": {
        "colab": {
          "base_uri": "https://localhost:8080/"
        },
        "id": "imrBMxRFYbLd",
        "outputId": "46f9e0f6-944e-400d-e6b5-af54d36659cc"
      },
      "execution_count": null,
      "outputs": [
        {
          "output_type": "stream",
          "name": "stdout",
          "text": [
            "✅ Saved cleaned summary to /content/drive/MyDrive/PHQ8_Project/BoVW_openface_summary_cleaned_named.csv — shape: (276, 405)\n"
          ]
        }
      ]
    },
    {
      "cell_type": "markdown",
      "source": [
        "# Clean Columns\n"
      ],
      "metadata": {
        "id": "ds9a4YYBcjup"
      }
    },
    {
      "cell_type": "code",
      "source": [
        "# Use a clean file (e.g., 301) to extract reference columns\n",
        "clean_path = '/content/drive/MyDrive/PHQ8_Project/BoVW_Pose_Gaze_AUs/301_BoVW_openFace_2.1.0_Pose_Gaze_AUs.csv'\n",
        "ref_df = pd.read_csv(clean_path)\n",
        "ref_cols = ref_df.select_dtypes(include='number').columns.tolist()\n"
      ],
      "metadata": {
        "id": "hOrmf8Mzcmtc"
      },
      "execution_count": null,
      "outputs": []
    },
    {
      "cell_type": "code",
      "source": [
        "def summarize_broken_file(path, ref_cols):\n",
        "    try:\n",
        "        # Load with correct delimiter\n",
        "        df = pd.read_csv(path, sep=';', header=None)\n",
        "\n",
        "        # Drop first column if it's metadata\n",
        "        df = df.drop(columns=[0])\n",
        "\n",
        "        # Assign correct column names\n",
        "        df.columns = ref_cols[:df.shape[1]]\n",
        "\n",
        "        # Compute summary statistics\n",
        "        summary = df.describe().loc[['mean', 'std', 'min', 'max']]\n",
        "        summary.columns = [f\"{col}_{stat}\" for col in summary.columns for stat in ['mean', 'std', 'min', 'max']]\n",
        "        summary = summary.iloc[0:1]  # keep only one row per participant\n",
        "\n",
        "        return summary\n",
        "    except Exception as e:\n",
        "        print(f\"❌ Error: {path} — {e}\")\n",
        "        return None\n"
      ],
      "metadata": {
        "id": "-jvLock4cpex"
      },
      "execution_count": null,
      "outputs": []
    },
    {
      "cell_type": "code",
      "source": [
        "# Path to broken OpenFace files\n",
        "folder = '/content/drive/MyDrive/PHQ8_Project/BoVW_Pose_Gaze_AUs/'\n",
        "\n",
        "# Participant IDs that are broken\n",
        "broken_ids = [\n",
        "    '600', '602', '604', '605', '606', '607', '609', '615', '618', '619', '620', '622', '623', '624',\n",
        "    '625', '626', '629', '631', '634', '635', '636', '637', '638', '640', '649', '650', '651', '652',\n",
        "    '655', '656', '658', '659', '661', '663', '664', '666', '669', '676', '679', '682', '683', '688',\n",
        "    '689', '691', '693', '696', '699', '705', '708', '709', '710', '712', '715', '716', '717', '718'\n",
        "]  # Add all broken ones\n",
        "\n",
        "all_rows = []\n",
        "\n",
        "for pid in tqdm(broken_ids):\n",
        "    file_path = os.path.join(folder, f'{pid}_BoVW_openFace_2.1.0_Pose_Gaze_AUs.csv')\n",
        "    summary = summarize_broken_file(file_path, ref_cols)\n",
        "    if summary is not None:\n",
        "        summary.insert(0, 'participant_id', pid)\n",
        "        all_rows.append(summary)\n",
        "\n",
        "# Combine all\n",
        "final_df = pd.concat(all_rows, ignore_index=True)\n",
        "final_df.to_csv('/content/drive/MyDrive/BoVW_openface_fixed_summary.csv', index=False)\n",
        "print(\"✅ Saved summary with corrected columns.\")\n"
      ],
      "metadata": {
        "colab": {
          "base_uri": "https://localhost:8080/",
          "height": 1000
        },
        "id": "C8cKu7FSctbm",
        "outputId": "f878a9c9-9952-4d7b-b6ae-10ea287222d6"
      },
      "execution_count": null,
      "outputs": [
        {
          "output_type": "stream",
          "name": "stderr",
          "text": [
            "  4%|▎         | 2/56 [00:00<00:10,  5.30it/s]"
          ]
        },
        {
          "output_type": "stream",
          "name": "stdout",
          "text": [
            "❌ Error: /content/drive/MyDrive/PHQ8_Project/BoVW_Pose_Gaze_AUs/600_BoVW_openFace_2.1.0_Pose_Gaze_AUs.csv — Length mismatch: Expected axis has 101 elements, new values have 404 elements\n",
            "❌ Error: /content/drive/MyDrive/PHQ8_Project/BoVW_Pose_Gaze_AUs/602_BoVW_openFace_2.1.0_Pose_Gaze_AUs.csv — Length mismatch: Expected axis has 101 elements, new values have 404 elements\n"
          ]
        },
        {
          "output_type": "stream",
          "name": "stderr",
          "text": [
            "\r  5%|▌         | 3/56 [00:00<00:11,  4.81it/s]"
          ]
        },
        {
          "output_type": "stream",
          "name": "stdout",
          "text": [
            "❌ Error: /content/drive/MyDrive/PHQ8_Project/BoVW_Pose_Gaze_AUs/604_BoVW_openFace_2.1.0_Pose_Gaze_AUs.csv — Length mismatch: Expected axis has 101 elements, new values have 404 elements\n"
          ]
        },
        {
          "output_type": "stream",
          "name": "stderr",
          "text": [
            "  9%|▉         | 5/56 [00:01<00:10,  4.95it/s]"
          ]
        },
        {
          "output_type": "stream",
          "name": "stdout",
          "text": [
            "❌ Error: /content/drive/MyDrive/PHQ8_Project/BoVW_Pose_Gaze_AUs/605_BoVW_openFace_2.1.0_Pose_Gaze_AUs.csv — Length mismatch: Expected axis has 101 elements, new values have 404 elements\n",
            "❌ Error: /content/drive/MyDrive/PHQ8_Project/BoVW_Pose_Gaze_AUs/606_BoVW_openFace_2.1.0_Pose_Gaze_AUs.csv — Length mismatch: Expected axis has 101 elements, new values have 404 elements\n"
          ]
        },
        {
          "output_type": "stream",
          "name": "stderr",
          "text": [
            "\r 11%|█         | 6/56 [00:01<00:09,  5.12it/s]"
          ]
        },
        {
          "output_type": "stream",
          "name": "stdout",
          "text": [
            "❌ Error: /content/drive/MyDrive/PHQ8_Project/BoVW_Pose_Gaze_AUs/607_BoVW_openFace_2.1.0_Pose_Gaze_AUs.csv — Length mismatch: Expected axis has 101 elements, new values have 404 elements\n"
          ]
        },
        {
          "output_type": "stream",
          "name": "stderr",
          "text": [
            "\r 12%|█▎        | 7/56 [00:01<00:10,  4.83it/s]"
          ]
        },
        {
          "output_type": "stream",
          "name": "stdout",
          "text": [
            "❌ Error: /content/drive/MyDrive/PHQ8_Project/BoVW_Pose_Gaze_AUs/609_BoVW_openFace_2.1.0_Pose_Gaze_AUs.csv — Length mismatch: Expected axis has 101 elements, new values have 404 elements\n"
          ]
        },
        {
          "output_type": "stream",
          "name": "stderr",
          "text": [
            "\r 14%|█▍        | 8/56 [00:01<00:11,  4.36it/s]"
          ]
        },
        {
          "output_type": "stream",
          "name": "stdout",
          "text": [
            "❌ Error: /content/drive/MyDrive/PHQ8_Project/BoVW_Pose_Gaze_AUs/615_BoVW_openFace_2.1.0_Pose_Gaze_AUs.csv — Length mismatch: Expected axis has 101 elements, new values have 404 elements\n",
            "❌ Error: /content/drive/MyDrive/PHQ8_Project/BoVW_Pose_Gaze_AUs/618_BoVW_openFace_2.1.0_Pose_Gaze_AUs.csv — Length mismatch: Expected axis has 101 elements, new values have 404 elements\n"
          ]
        },
        {
          "output_type": "stream",
          "name": "stderr",
          "text": [
            " 18%|█▊        | 10/56 [00:02<00:10,  4.52it/s]"
          ]
        },
        {
          "output_type": "stream",
          "name": "stdout",
          "text": [
            "❌ Error: /content/drive/MyDrive/PHQ8_Project/BoVW_Pose_Gaze_AUs/619_BoVW_openFace_2.1.0_Pose_Gaze_AUs.csv — Length mismatch: Expected axis has 101 elements, new values have 404 elements\n"
          ]
        },
        {
          "output_type": "stream",
          "name": "stderr",
          "text": [
            " 21%|██▏       | 12/56 [00:02<00:09,  4.77it/s]"
          ]
        },
        {
          "output_type": "stream",
          "name": "stdout",
          "text": [
            "❌ Error: /content/drive/MyDrive/PHQ8_Project/BoVW_Pose_Gaze_AUs/620_BoVW_openFace_2.1.0_Pose_Gaze_AUs.csv — Length mismatch: Expected axis has 101 elements, new values have 404 elements\n",
            "❌ Error: /content/drive/MyDrive/PHQ8_Project/BoVW_Pose_Gaze_AUs/622_BoVW_openFace_2.1.0_Pose_Gaze_AUs.csv — Length mismatch: Expected axis has 101 elements, new values have 404 elements\n"
          ]
        },
        {
          "output_type": "stream",
          "name": "stderr",
          "text": [
            " 25%|██▌       | 14/56 [00:02<00:09,  4.60it/s]"
          ]
        },
        {
          "output_type": "stream",
          "name": "stdout",
          "text": [
            "❌ Error: /content/drive/MyDrive/PHQ8_Project/BoVW_Pose_Gaze_AUs/623_BoVW_openFace_2.1.0_Pose_Gaze_AUs.csv — Length mismatch: Expected axis has 101 elements, new values have 404 elements\n",
            "❌ Error: /content/drive/MyDrive/PHQ8_Project/BoVW_Pose_Gaze_AUs/624_BoVW_openFace_2.1.0_Pose_Gaze_AUs.csv — Length mismatch: Expected axis has 101 elements, new values have 404 elements\n"
          ]
        },
        {
          "output_type": "stream",
          "name": "stderr",
          "text": [
            " 29%|██▊       | 16/56 [00:03<00:07,  5.02it/s]"
          ]
        },
        {
          "output_type": "stream",
          "name": "stdout",
          "text": [
            "❌ Error: /content/drive/MyDrive/PHQ8_Project/BoVW_Pose_Gaze_AUs/625_BoVW_openFace_2.1.0_Pose_Gaze_AUs.csv — Length mismatch: Expected axis has 101 elements, new values have 404 elements\n",
            "❌ Error: /content/drive/MyDrive/PHQ8_Project/BoVW_Pose_Gaze_AUs/626_BoVW_openFace_2.1.0_Pose_Gaze_AUs.csv — Length mismatch: Expected axis has 101 elements, new values have 404 elements\n"
          ]
        },
        {
          "output_type": "stream",
          "name": "stderr",
          "text": [
            " 32%|███▏      | 18/56 [00:03<00:07,  5.06it/s]"
          ]
        },
        {
          "output_type": "stream",
          "name": "stdout",
          "text": [
            "❌ Error: /content/drive/MyDrive/PHQ8_Project/BoVW_Pose_Gaze_AUs/629_BoVW_openFace_2.1.0_Pose_Gaze_AUs.csv — Length mismatch: Expected axis has 101 elements, new values have 404 elements\n",
            "❌ Error: /content/drive/MyDrive/PHQ8_Project/BoVW_Pose_Gaze_AUs/631_BoVW_openFace_2.1.0_Pose_Gaze_AUs.csv — Length mismatch: Expected axis has 101 elements, new values have 404 elements\n"
          ]
        },
        {
          "output_type": "stream",
          "name": "stderr",
          "text": [
            " 36%|███▌      | 20/56 [00:04<00:06,  5.43it/s]"
          ]
        },
        {
          "output_type": "stream",
          "name": "stdout",
          "text": [
            "❌ Error: /content/drive/MyDrive/PHQ8_Project/BoVW_Pose_Gaze_AUs/634_BoVW_openFace_2.1.0_Pose_Gaze_AUs.csv — Length mismatch: Expected axis has 101 elements, new values have 404 elements\n",
            "❌ Error: /content/drive/MyDrive/PHQ8_Project/BoVW_Pose_Gaze_AUs/635_BoVW_openFace_2.1.0_Pose_Gaze_AUs.csv — Length mismatch: Expected axis has 101 elements, new values have 404 elements\n"
          ]
        },
        {
          "output_type": "stream",
          "name": "stderr",
          "text": [
            "\r 38%|███▊      | 21/56 [00:04<00:07,  4.80it/s]"
          ]
        },
        {
          "output_type": "stream",
          "name": "stdout",
          "text": [
            "❌ Error: /content/drive/MyDrive/PHQ8_Project/BoVW_Pose_Gaze_AUs/636_BoVW_openFace_2.1.0_Pose_Gaze_AUs.csv — Length mismatch: Expected axis has 101 elements, new values have 404 elements\n"
          ]
        },
        {
          "output_type": "stream",
          "name": "stderr",
          "text": [
            "\r 39%|███▉      | 22/56 [00:04<00:07,  4.53it/s]"
          ]
        },
        {
          "output_type": "stream",
          "name": "stdout",
          "text": [
            "❌ Error: /content/drive/MyDrive/PHQ8_Project/BoVW_Pose_Gaze_AUs/637_BoVW_openFace_2.1.0_Pose_Gaze_AUs.csv — Length mismatch: Expected axis has 101 elements, new values have 404 elements\n"
          ]
        },
        {
          "output_type": "stream",
          "name": "stderr",
          "text": [
            "\r 41%|████      | 23/56 [00:04<00:07,  4.33it/s]"
          ]
        },
        {
          "output_type": "stream",
          "name": "stdout",
          "text": [
            "❌ Error: /content/drive/MyDrive/PHQ8_Project/BoVW_Pose_Gaze_AUs/638_BoVW_openFace_2.1.0_Pose_Gaze_AUs.csv — Length mismatch: Expected axis has 101 elements, new values have 404 elements\n"
          ]
        },
        {
          "output_type": "stream",
          "name": "stderr",
          "text": [
            "\r 43%|████▎     | 24/56 [00:05<00:08,  3.99it/s]"
          ]
        },
        {
          "output_type": "stream",
          "name": "stdout",
          "text": [
            "❌ Error: /content/drive/MyDrive/PHQ8_Project/BoVW_Pose_Gaze_AUs/640_BoVW_openFace_2.1.0_Pose_Gaze_AUs.csv — Length mismatch: Expected axis has 101 elements, new values have 404 elements\n"
          ]
        },
        {
          "output_type": "stream",
          "name": "stderr",
          "text": [
            "\r 45%|████▍     | 25/56 [00:05<00:08,  3.77it/s]"
          ]
        },
        {
          "output_type": "stream",
          "name": "stdout",
          "text": [
            "❌ Error: /content/drive/MyDrive/PHQ8_Project/BoVW_Pose_Gaze_AUs/649_BoVW_openFace_2.1.0_Pose_Gaze_AUs.csv — Length mismatch: Expected axis has 101 elements, new values have 404 elements\n"
          ]
        },
        {
          "output_type": "stream",
          "name": "stderr",
          "text": [
            "\r 46%|████▋     | 26/56 [00:05<00:08,  3.53it/s]"
          ]
        },
        {
          "output_type": "stream",
          "name": "stdout",
          "text": [
            "❌ Error: /content/drive/MyDrive/PHQ8_Project/BoVW_Pose_Gaze_AUs/650_BoVW_openFace_2.1.0_Pose_Gaze_AUs.csv — Length mismatch: Expected axis has 101 elements, new values have 404 elements\n"
          ]
        },
        {
          "output_type": "stream",
          "name": "stderr",
          "text": [
            "\r 48%|████▊     | 27/56 [00:06<00:07,  3.69it/s]"
          ]
        },
        {
          "output_type": "stream",
          "name": "stdout",
          "text": [
            "❌ Error: /content/drive/MyDrive/PHQ8_Project/BoVW_Pose_Gaze_AUs/651_BoVW_openFace_2.1.0_Pose_Gaze_AUs.csv — Length mismatch: Expected axis has 101 elements, new values have 404 elements\n"
          ]
        },
        {
          "output_type": "stream",
          "name": "stderr",
          "text": [
            "\r 50%|█████     | 28/56 [00:06<00:07,  3.59it/s]"
          ]
        },
        {
          "output_type": "stream",
          "name": "stdout",
          "text": [
            "❌ Error: /content/drive/MyDrive/PHQ8_Project/BoVW_Pose_Gaze_AUs/652_BoVW_openFace_2.1.0_Pose_Gaze_AUs.csv — Length mismatch: Expected axis has 101 elements, new values have 404 elements\n"
          ]
        },
        {
          "output_type": "stream",
          "name": "stderr",
          "text": [
            "\r 52%|█████▏    | 29/56 [00:06<00:07,  3.56it/s]"
          ]
        },
        {
          "output_type": "stream",
          "name": "stdout",
          "text": [
            "❌ Error: /content/drive/MyDrive/PHQ8_Project/BoVW_Pose_Gaze_AUs/655_BoVW_openFace_2.1.0_Pose_Gaze_AUs.csv — Length mismatch: Expected axis has 101 elements, new values have 404 elements\n"
          ]
        },
        {
          "output_type": "stream",
          "name": "stderr",
          "text": [
            "\r 54%|█████▎    | 30/56 [00:06<00:07,  3.65it/s]"
          ]
        },
        {
          "output_type": "stream",
          "name": "stdout",
          "text": [
            "❌ Error: /content/drive/MyDrive/PHQ8_Project/BoVW_Pose_Gaze_AUs/656_BoVW_openFace_2.1.0_Pose_Gaze_AUs.csv — Length mismatch: Expected axis has 101 elements, new values have 404 elements\n"
          ]
        },
        {
          "output_type": "stream",
          "name": "stderr",
          "text": [
            "\r 55%|█████▌    | 31/56 [00:07<00:07,  3.47it/s]"
          ]
        },
        {
          "output_type": "stream",
          "name": "stdout",
          "text": [
            "❌ Error: /content/drive/MyDrive/PHQ8_Project/BoVW_Pose_Gaze_AUs/658_BoVW_openFace_2.1.0_Pose_Gaze_AUs.csv — Length mismatch: Expected axis has 101 elements, new values have 404 elements\n"
          ]
        },
        {
          "output_type": "stream",
          "name": "stderr",
          "text": [
            "\r 57%|█████▋    | 32/56 [00:07<00:07,  3.21it/s]"
          ]
        },
        {
          "output_type": "stream",
          "name": "stdout",
          "text": [
            "❌ Error: /content/drive/MyDrive/PHQ8_Project/BoVW_Pose_Gaze_AUs/659_BoVW_openFace_2.1.0_Pose_Gaze_AUs.csv — Length mismatch: Expected axis has 101 elements, new values have 404 elements\n"
          ]
        },
        {
          "output_type": "stream",
          "name": "stderr",
          "text": [
            " 61%|██████    | 34/56 [00:08<00:06,  3.58it/s]"
          ]
        },
        {
          "output_type": "stream",
          "name": "stdout",
          "text": [
            "❌ Error: /content/drive/MyDrive/PHQ8_Project/BoVW_Pose_Gaze_AUs/661_BoVW_openFace_2.1.0_Pose_Gaze_AUs.csv — Length mismatch: Expected axis has 101 elements, new values have 404 elements\n",
            "❌ Error: /content/drive/MyDrive/PHQ8_Project/BoVW_Pose_Gaze_AUs/663_BoVW_openFace_2.1.0_Pose_Gaze_AUs.csv — Length mismatch: Expected axis has 101 elements, new values have 404 elements\n"
          ]
        },
        {
          "output_type": "stream",
          "name": "stderr",
          "text": [
            "\r 62%|██████▎   | 35/56 [00:08<00:05,  3.77it/s]"
          ]
        },
        {
          "output_type": "stream",
          "name": "stdout",
          "text": [
            "❌ Error: /content/drive/MyDrive/PHQ8_Project/BoVW_Pose_Gaze_AUs/664_BoVW_openFace_2.1.0_Pose_Gaze_AUs.csv — Length mismatch: Expected axis has 101 elements, new values have 404 elements\n"
          ]
        },
        {
          "output_type": "stream",
          "name": "stderr",
          "text": [
            "\r 64%|██████▍   | 36/56 [00:08<00:05,  3.96it/s]"
          ]
        },
        {
          "output_type": "stream",
          "name": "stdout",
          "text": [
            "❌ Error: /content/drive/MyDrive/PHQ8_Project/BoVW_Pose_Gaze_AUs/666_BoVW_openFace_2.1.0_Pose_Gaze_AUs.csv — Length mismatch: Expected axis has 101 elements, new values have 404 elements\n"
          ]
        },
        {
          "output_type": "stream",
          "name": "stderr",
          "text": [
            " 68%|██████▊   | 38/56 [00:08<00:04,  4.49it/s]"
          ]
        },
        {
          "output_type": "stream",
          "name": "stdout",
          "text": [
            "❌ Error: /content/drive/MyDrive/PHQ8_Project/BoVW_Pose_Gaze_AUs/669_BoVW_openFace_2.1.0_Pose_Gaze_AUs.csv — Length mismatch: Expected axis has 101 elements, new values have 404 elements\n",
            "❌ Error: /content/drive/MyDrive/PHQ8_Project/BoVW_Pose_Gaze_AUs/676_BoVW_openFace_2.1.0_Pose_Gaze_AUs.csv — Length mismatch: Expected axis has 101 elements, new values have 404 elements\n"
          ]
        },
        {
          "output_type": "stream",
          "name": "stderr",
          "text": [
            "\r 70%|██████▉   | 39/56 [00:09<00:03,  4.44it/s]"
          ]
        },
        {
          "output_type": "stream",
          "name": "stdout",
          "text": [
            "❌ Error: /content/drive/MyDrive/PHQ8_Project/BoVW_Pose_Gaze_AUs/679_BoVW_openFace_2.1.0_Pose_Gaze_AUs.csv — Length mismatch: Expected axis has 101 elements, new values have 404 elements\n",
            "❌ Error: /content/drive/MyDrive/PHQ8_Project/BoVW_Pose_Gaze_AUs/682_BoVW_openFace_2.1.0_Pose_Gaze_AUs.csv — Length mismatch: Expected axis has 101 elements, new values have 404 elements\n"
          ]
        },
        {
          "output_type": "stream",
          "name": "stderr",
          "text": [
            " 73%|███████▎  | 41/56 [00:09<00:03,  4.46it/s]"
          ]
        },
        {
          "output_type": "stream",
          "name": "stdout",
          "text": [
            "❌ Error: /content/drive/MyDrive/PHQ8_Project/BoVW_Pose_Gaze_AUs/683_BoVW_openFace_2.1.0_Pose_Gaze_AUs.csv — Length mismatch: Expected axis has 101 elements, new values have 404 elements\n"
          ]
        },
        {
          "output_type": "stream",
          "name": "stderr",
          "text": [
            " 77%|███████▋  | 43/56 [00:10<00:02,  4.71it/s]"
          ]
        },
        {
          "output_type": "stream",
          "name": "stdout",
          "text": [
            "❌ Error: /content/drive/MyDrive/PHQ8_Project/BoVW_Pose_Gaze_AUs/688_BoVW_openFace_2.1.0_Pose_Gaze_AUs.csv — Length mismatch: Expected axis has 101 elements, new values have 404 elements\n",
            "❌ Error: /content/drive/MyDrive/PHQ8_Project/BoVW_Pose_Gaze_AUs/689_BoVW_openFace_2.1.0_Pose_Gaze_AUs.csv — Length mismatch: Expected axis has 101 elements, new values have 404 elements\n"
          ]
        },
        {
          "output_type": "stream",
          "name": "stderr",
          "text": [
            " 80%|████████  | 45/56 [00:10<00:02,  4.73it/s]"
          ]
        },
        {
          "output_type": "stream",
          "name": "stdout",
          "text": [
            "❌ Error: /content/drive/MyDrive/PHQ8_Project/BoVW_Pose_Gaze_AUs/691_BoVW_openFace_2.1.0_Pose_Gaze_AUs.csv — Length mismatch: Expected axis has 101 elements, new values have 404 elements\n",
            "❌ Error: /content/drive/MyDrive/PHQ8_Project/BoVW_Pose_Gaze_AUs/693_BoVW_openFace_2.1.0_Pose_Gaze_AUs.csv — Length mismatch: Expected axis has 101 elements, new values have 404 elements\n"
          ]
        },
        {
          "output_type": "stream",
          "name": "stderr",
          "text": [
            " 84%|████████▍ | 47/56 [00:10<00:01,  5.11it/s]"
          ]
        },
        {
          "output_type": "stream",
          "name": "stdout",
          "text": [
            "❌ Error: /content/drive/MyDrive/PHQ8_Project/BoVW_Pose_Gaze_AUs/696_BoVW_openFace_2.1.0_Pose_Gaze_AUs.csv — Length mismatch: Expected axis has 101 elements, new values have 404 elements\n",
            "❌ Error: /content/drive/MyDrive/PHQ8_Project/BoVW_Pose_Gaze_AUs/699_BoVW_openFace_2.1.0_Pose_Gaze_AUs.csv — Length mismatch: Expected axis has 101 elements, new values have 404 elements\n"
          ]
        },
        {
          "output_type": "stream",
          "name": "stderr",
          "text": [
            " 88%|████████▊ | 49/56 [00:11<00:01,  5.24it/s]"
          ]
        },
        {
          "output_type": "stream",
          "name": "stdout",
          "text": [
            "❌ Error: /content/drive/MyDrive/PHQ8_Project/BoVW_Pose_Gaze_AUs/705_BoVW_openFace_2.1.0_Pose_Gaze_AUs.csv — Length mismatch: Expected axis has 101 elements, new values have 404 elements\n",
            "❌ Error: /content/drive/MyDrive/PHQ8_Project/BoVW_Pose_Gaze_AUs/708_BoVW_openFace_2.1.0_Pose_Gaze_AUs.csv — Length mismatch: Expected axis has 101 elements, new values have 404 elements\n"
          ]
        },
        {
          "output_type": "stream",
          "name": "stderr",
          "text": [
            " 91%|█████████ | 51/56 [00:11<00:00,  5.11it/s]"
          ]
        },
        {
          "output_type": "stream",
          "name": "stdout",
          "text": [
            "❌ Error: /content/drive/MyDrive/PHQ8_Project/BoVW_Pose_Gaze_AUs/709_BoVW_openFace_2.1.0_Pose_Gaze_AUs.csv — Length mismatch: Expected axis has 101 elements, new values have 404 elements\n",
            "❌ Error: /content/drive/MyDrive/PHQ8_Project/BoVW_Pose_Gaze_AUs/710_BoVW_openFace_2.1.0_Pose_Gaze_AUs.csv — Length mismatch: Expected axis has 101 elements, new values have 404 elements\n"
          ]
        },
        {
          "output_type": "stream",
          "name": "stderr",
          "text": [
            "\r 93%|█████████▎| 52/56 [00:11<00:00,  4.92it/s]"
          ]
        },
        {
          "output_type": "stream",
          "name": "stdout",
          "text": [
            "❌ Error: /content/drive/MyDrive/PHQ8_Project/BoVW_Pose_Gaze_AUs/712_BoVW_openFace_2.1.0_Pose_Gaze_AUs.csv — Length mismatch: Expected axis has 101 elements, new values have 404 elements\n"
          ]
        },
        {
          "output_type": "stream",
          "name": "stderr",
          "text": [
            " 96%|█████████▋| 54/56 [00:12<00:00,  4.83it/s]"
          ]
        },
        {
          "output_type": "stream",
          "name": "stdout",
          "text": [
            "❌ Error: /content/drive/MyDrive/PHQ8_Project/BoVW_Pose_Gaze_AUs/715_BoVW_openFace_2.1.0_Pose_Gaze_AUs.csv — Length mismatch: Expected axis has 101 elements, new values have 404 elements\n",
            "❌ Error: /content/drive/MyDrive/PHQ8_Project/BoVW_Pose_Gaze_AUs/716_BoVW_openFace_2.1.0_Pose_Gaze_AUs.csv — Length mismatch: Expected axis has 101 elements, new values have 404 elements\n"
          ]
        },
        {
          "output_type": "stream",
          "name": "stderr",
          "text": [
            "\r 98%|█████████▊| 55/56 [00:12<00:00,  4.75it/s]"
          ]
        },
        {
          "output_type": "stream",
          "name": "stdout",
          "text": [
            "❌ Error: /content/drive/MyDrive/PHQ8_Project/BoVW_Pose_Gaze_AUs/717_BoVW_openFace_2.1.0_Pose_Gaze_AUs.csv — Length mismatch: Expected axis has 101 elements, new values have 404 elements\n"
          ]
        },
        {
          "output_type": "stream",
          "name": "stderr",
          "text": [
            "100%|██████████| 56/56 [00:12<00:00,  4.41it/s]"
          ]
        },
        {
          "output_type": "stream",
          "name": "stdout",
          "text": [
            "❌ Error: /content/drive/MyDrive/PHQ8_Project/BoVW_Pose_Gaze_AUs/718_BoVW_openFace_2.1.0_Pose_Gaze_AUs.csv — Length mismatch: Expected axis has 101 elements, new values have 404 elements\n"
          ]
        },
        {
          "output_type": "stream",
          "name": "stderr",
          "text": [
            "\n"
          ]
        },
        {
          "output_type": "error",
          "ename": "ValueError",
          "evalue": "No objects to concatenate",
          "traceback": [
            "\u001b[0;31m---------------------------------------------------------------------------\u001b[0m",
            "\u001b[0;31mValueError\u001b[0m                                Traceback (most recent call last)",
            "\u001b[0;32m<ipython-input-18-e63719f77140>\u001b[0m in \u001b[0;36m<cell line: 0>\u001b[0;34m()\u001b[0m\n\u001b[1;32m     20\u001b[0m \u001b[0;34m\u001b[0m\u001b[0m\n\u001b[1;32m     21\u001b[0m \u001b[0;31m# Combine all\u001b[0m\u001b[0;34m\u001b[0m\u001b[0;34m\u001b[0m\u001b[0m\n\u001b[0;32m---> 22\u001b[0;31m \u001b[0mfinal_df\u001b[0m \u001b[0;34m=\u001b[0m \u001b[0mpd\u001b[0m\u001b[0;34m.\u001b[0m\u001b[0mconcat\u001b[0m\u001b[0;34m(\u001b[0m\u001b[0mall_rows\u001b[0m\u001b[0;34m,\u001b[0m \u001b[0mignore_index\u001b[0m\u001b[0;34m=\u001b[0m\u001b[0;32mTrue\u001b[0m\u001b[0;34m)\u001b[0m\u001b[0;34m\u001b[0m\u001b[0;34m\u001b[0m\u001b[0m\n\u001b[0m\u001b[1;32m     23\u001b[0m \u001b[0mfinal_df\u001b[0m\u001b[0;34m.\u001b[0m\u001b[0mto_csv\u001b[0m\u001b[0;34m(\u001b[0m\u001b[0;34m'/content/drive/MyDrive/BoVW_openface_fixed_summary.csv'\u001b[0m\u001b[0;34m,\u001b[0m \u001b[0mindex\u001b[0m\u001b[0;34m=\u001b[0m\u001b[0;32mFalse\u001b[0m\u001b[0;34m)\u001b[0m\u001b[0;34m\u001b[0m\u001b[0;34m\u001b[0m\u001b[0m\n\u001b[1;32m     24\u001b[0m \u001b[0mprint\u001b[0m\u001b[0;34m(\u001b[0m\u001b[0;34m\"✅ Saved summary with corrected columns.\"\u001b[0m\u001b[0;34m)\u001b[0m\u001b[0;34m\u001b[0m\u001b[0;34m\u001b[0m\u001b[0m\n",
            "\u001b[0;32m/usr/local/lib/python3.11/dist-packages/pandas/core/reshape/concat.py\u001b[0m in \u001b[0;36mconcat\u001b[0;34m(objs, axis, join, ignore_index, keys, levels, names, verify_integrity, sort, copy)\u001b[0m\n\u001b[1;32m    380\u001b[0m         \u001b[0mcopy\u001b[0m \u001b[0;34m=\u001b[0m \u001b[0;32mFalse\u001b[0m\u001b[0;34m\u001b[0m\u001b[0;34m\u001b[0m\u001b[0m\n\u001b[1;32m    381\u001b[0m \u001b[0;34m\u001b[0m\u001b[0m\n\u001b[0;32m--> 382\u001b[0;31m     op = _Concatenator(\n\u001b[0m\u001b[1;32m    383\u001b[0m         \u001b[0mobjs\u001b[0m\u001b[0;34m,\u001b[0m\u001b[0;34m\u001b[0m\u001b[0;34m\u001b[0m\u001b[0m\n\u001b[1;32m    384\u001b[0m         \u001b[0maxis\u001b[0m\u001b[0;34m=\u001b[0m\u001b[0maxis\u001b[0m\u001b[0;34m,\u001b[0m\u001b[0;34m\u001b[0m\u001b[0;34m\u001b[0m\u001b[0m\n",
            "\u001b[0;32m/usr/local/lib/python3.11/dist-packages/pandas/core/reshape/concat.py\u001b[0m in \u001b[0;36m__init__\u001b[0;34m(self, objs, axis, join, keys, levels, names, ignore_index, verify_integrity, copy, sort)\u001b[0m\n\u001b[1;32m    443\u001b[0m         \u001b[0mself\u001b[0m\u001b[0;34m.\u001b[0m\u001b[0mcopy\u001b[0m \u001b[0;34m=\u001b[0m \u001b[0mcopy\u001b[0m\u001b[0;34m\u001b[0m\u001b[0;34m\u001b[0m\u001b[0m\n\u001b[1;32m    444\u001b[0m \u001b[0;34m\u001b[0m\u001b[0m\n\u001b[0;32m--> 445\u001b[0;31m         \u001b[0mobjs\u001b[0m\u001b[0;34m,\u001b[0m \u001b[0mkeys\u001b[0m \u001b[0;34m=\u001b[0m \u001b[0mself\u001b[0m\u001b[0;34m.\u001b[0m\u001b[0m_clean_keys_and_objs\u001b[0m\u001b[0;34m(\u001b[0m\u001b[0mobjs\u001b[0m\u001b[0;34m,\u001b[0m \u001b[0mkeys\u001b[0m\u001b[0;34m)\u001b[0m\u001b[0;34m\u001b[0m\u001b[0;34m\u001b[0m\u001b[0m\n\u001b[0m\u001b[1;32m    446\u001b[0m \u001b[0;34m\u001b[0m\u001b[0m\n\u001b[1;32m    447\u001b[0m         \u001b[0;31m# figure out what our result ndim is going to be\u001b[0m\u001b[0;34m\u001b[0m\u001b[0;34m\u001b[0m\u001b[0m\n",
            "\u001b[0;32m/usr/local/lib/python3.11/dist-packages/pandas/core/reshape/concat.py\u001b[0m in \u001b[0;36m_clean_keys_and_objs\u001b[0;34m(self, objs, keys)\u001b[0m\n\u001b[1;32m    505\u001b[0m \u001b[0;34m\u001b[0m\u001b[0m\n\u001b[1;32m    506\u001b[0m         \u001b[0;32mif\u001b[0m \u001b[0mlen\u001b[0m\u001b[0;34m(\u001b[0m\u001b[0mobjs_list\u001b[0m\u001b[0;34m)\u001b[0m \u001b[0;34m==\u001b[0m \u001b[0;36m0\u001b[0m\u001b[0;34m:\u001b[0m\u001b[0;34m\u001b[0m\u001b[0;34m\u001b[0m\u001b[0m\n\u001b[0;32m--> 507\u001b[0;31m             \u001b[0;32mraise\u001b[0m \u001b[0mValueError\u001b[0m\u001b[0;34m(\u001b[0m\u001b[0;34m\"No objects to concatenate\"\u001b[0m\u001b[0;34m)\u001b[0m\u001b[0;34m\u001b[0m\u001b[0;34m\u001b[0m\u001b[0m\n\u001b[0m\u001b[1;32m    508\u001b[0m \u001b[0;34m\u001b[0m\u001b[0m\n\u001b[1;32m    509\u001b[0m         \u001b[0;32mif\u001b[0m \u001b[0mkeys\u001b[0m \u001b[0;32mis\u001b[0m \u001b[0;32mNone\u001b[0m\u001b[0;34m:\u001b[0m\u001b[0;34m\u001b[0m\u001b[0;34m\u001b[0m\u001b[0m\n",
            "\u001b[0;31mValueError\u001b[0m: No objects to concatenate"
          ]
        }
      ]
    },
    {
      "cell_type": "code",
      "source": [
        "import pandas as pd\n",
        "\n",
        "# Step 1: Load both CSVs\n",
        "full_df = pd.read_csv('full_participant_summary.csv')\n",
        "bovw_df = pd.read_csv('BoVW_openface_summary_all_cleaned.csv')\n",
        "\n",
        "# Step 2: Drop all columns related to 'openface' (case-insensitive just to be safe)\n",
        "columns_to_drop = [col for col in full_df.columns if 'openface' in col.lower()]\n",
        "full_df_cleaned = full_df.drop(columns=columns_to_drop)\n",
        "\n",
        "# Step 3: Merge BoVW features\n",
        "# Assuming both files have a common key like 'participant_id' or similar\n",
        "# Adjust `on='participant_id'` below with your actual key column\n",
        "merged_df = pd.merge(full_df_cleaned, bovw_df, on='participant_id', how='left')\n",
        "\n",
        "# Step 4: Save the intermediate merged file\n",
        "merged_df.to_csv('/content/updated_participant_summary.csv', index=False)\n",
        "\n",
        "print(\"✅ Merging complete and openface features replaced!\")\n"
      ],
      "metadata": {
        "colab": {
          "base_uri": "https://localhost:8080/"
        },
        "id": "Y9AFDQUUqyl8",
        "outputId": "1f317c50-4eb5-4a38-fa99-9a2078f3f2e1"
      },
      "execution_count": null,
      "outputs": [
        {
          "output_type": "stream",
          "name": "stdout",
          "text": [
            "✅ Merging complete and openface features replaced!\n"
          ]
        }
      ]
    },
    {
      "cell_type": "code",
      "source": [
        "import pandas as pd\n",
        "\n",
        "# Load already updated summary\n",
        "updated_df = pd.read_csv('updated_participant_summary.csv')\n",
        "\n",
        "# Load transcript features\n",
        "transcript_df = pd.read_csv('transcript_summary_all.csv')\n",
        "\n",
        "# Merge on 'participant_id'\n",
        "final_df = pd.merge(updated_df, transcript_df, on='participant_id', how='left')\n",
        "\n",
        "# Save the final combined CSV\n",
        "final_df.to_csv('/content/participant_summary.csv', index=False)\n",
        "\n",
        "print(\"🎉 Final participant_summary.csv is ready with transcript features added!\")\n"
      ],
      "metadata": {
        "colab": {
          "base_uri": "https://localhost:8080/"
        },
        "id": "L40qbSrlsY4h",
        "outputId": "1d071998-ea7e-4ebb-890e-e9cbcc65e5ac"
      },
      "execution_count": null,
      "outputs": [
        {
          "output_type": "stream",
          "name": "stdout",
          "text": [
            "🎉 Final participant_summary.csv is ready with transcript features added!\n"
          ]
        }
      ]
    },
    {
      "cell_type": "code",
      "source": [
        "import pandas as pd\n",
        "\n",
        "# Load the CSV\n",
        "df = pd.read_csv('participant_summary.csv')\n",
        "\n",
        "# Rename columns starting with '0.0.' from 1 to 99 to openface_f{number}\n",
        "new_columns = []\n",
        "for col in df.columns:\n",
        "    if col.startswith('0.0.'):\n",
        "        suffix = col.split('0.0.')[-1]  # e.g. \"1_mean\", \"23_max\"\n",
        "        parts = suffix.split('_')\n",
        "        feature_num = parts[0]\n",
        "        stat = parts[1] if len(parts) > 1 else ''\n",
        "        new_col = f'openface_f{feature_num}_{stat}'\n",
        "        new_columns.append(new_col)\n",
        "    else:\n",
        "        new_columns.append(col)\n",
        "\n",
        "df.columns = new_columns\n",
        "\n",
        "# Save the updated dataframe if you want\n",
        "df.to_csv('participant_summary_renamed.csv', index=False)\n"
      ],
      "metadata": {
        "id": "TPaR-tmYDtdm"
      },
      "execution_count": null,
      "outputs": []
    },
    {
      "cell_type": "markdown",
      "source": [
        "# Raw openface files merging\n"
      ],
      "metadata": {
        "id": "Qo2wxkss7D4D"
      }
    },
    {
      "cell_type": "code",
      "source": [
        "from google.colab import drive\n",
        "drive.mount('/content/drive')"
      ],
      "metadata": {
        "colab": {
          "base_uri": "https://localhost:8080/"
        },
        "id": "F4D926M87HCP",
        "outputId": "ae67f6d4-be73-4ed2-e707-3705da6f1f80"
      },
      "execution_count": null,
      "outputs": [
        {
          "output_type": "stream",
          "name": "stdout",
          "text": [
            "Mounted at /content/drive\n"
          ]
        }
      ]
    },
    {
      "cell_type": "code",
      "source": [
        "import os\n",
        "\n",
        "def count_openface_files(folder_path):\n",
        "    count = 0\n",
        "    for root, dirs, files in os.walk(folder_path):\n",
        "        for file in files:\n",
        "            if 'openface' in file.lower():\n",
        "                count += 1\n",
        "    return count\n",
        "\n",
        "# Replace this with your actual path to the phq8 folder\n",
        "openface_folder = '/content/drive/MyDrive/PHQ8_Project/openface_files'\n",
        "print(\"Number of OpenFace files:\", count_openface_files(openface_folder))\n"
      ],
      "metadata": {
        "colab": {
          "base_uri": "https://localhost:8080/"
        },
        "id": "RHaiJRqX7Syh",
        "outputId": "69150acb-eb2d-4a4d-efa9-cbaeffadb241"
      },
      "execution_count": null,
      "outputs": [
        {
          "output_type": "stream",
          "name": "stdout",
          "text": [
            "Number of OpenFace files: 268\n"
          ]
        }
      ]
    },
    {
      "cell_type": "code",
      "source": [
        "import pandas as pd\n",
        "csv_path = 'participant_summary_.csv'\n",
        "df = pd.read_csv(csv_path)\n",
        "\n",
        "# Replace 'participant_id' with the actual column name in your CSV\n",
        "participant_column = 'participant_id'  # adjust this as needed\n",
        "\n",
        "# List of participant IDs from CSV\n",
        "participants = df[participant_column].astype(str).tolist()\n",
        "\n",
        "# Get the list of filenames in openface folder\n",
        "openface_files = os.listdir(openface_folder)\n",
        "\n",
        "# Check which participants are missing openface files\n",
        "# Assuming openface files contain participant IDs in their filenames\n",
        "missing_participants = []\n",
        "for p in participants:\n",
        "    # Check if any file contains participant ID string\n",
        "    if not any(p in filename for filename in openface_files):\n",
        "        missing_participants.append(p)\n",
        "\n",
        "print(f\"Total participants in CSV: {len(participants)}\")\n",
        "print(f\"Participants missing OpenFace files: {len(missing_participants)}\")\n",
        "print(\"List of missing participants:\")\n",
        "print(missing_participants)"
      ],
      "metadata": {
        "colab": {
          "base_uri": "https://localhost:8080/"
        },
        "id": "oIY8-SEK8Tjq",
        "outputId": "8d57ee42-ea86-46f6-b17d-d0d4d2ce2046"
      },
      "execution_count": null,
      "outputs": [
        {
          "output_type": "stream",
          "name": "stdout",
          "text": [
            "Total participants in CSV: 275\n",
            "Participants missing OpenFace files: 0\n",
            "List of missing participants:\n",
            "[]\n"
          ]
        }
      ]
    },
    {
      "cell_type": "code",
      "source": [
        "import os\n",
        "import pandas as pd\n",
        "\n",
        "openface_folder = '/content/drive/MyDrive/PHQ8_Project/openface_files'\n",
        "exclude_columns = ['timestamp', 'confidence', 'frame', 'success']\n",
        "\n",
        "def process_openface_file(file_path):\n",
        "    df = pd.read_csv(file_path)\n",
        "\n",
        "    if 'success' in df.columns:\n",
        "        df = df[df['success'] == 1]\n",
        "\n",
        "    feature_cols = [col for col in df.columns if col not in exclude_columns]\n",
        "\n",
        "    stats = {}\n",
        "    for col in feature_cols:\n",
        "        stats[f'{col}_mean'] = df[col].mean()\n",
        "        stats[f'{col}_std'] = df[col].std()\n",
        "        stats[f'{col}_min'] = df[col].min()\n",
        "        stats[f'{col}_max'] = df[col].max()\n",
        "\n",
        "    return stats\n",
        "\n",
        "summary_list = []\n",
        "\n",
        "for filename in os.listdir(openface_folder):\n",
        "    if filename.endswith('.csv'):\n",
        "        participant_id = os.path.splitext(filename)[0]\n",
        "        file_path = os.path.join(openface_folder, filename)\n",
        "        stats = process_openface_file(file_path)\n",
        "        stats['participant_id'] = participant_id\n",
        "        summary_list.append(stats)\n",
        "\n",
        "summary_df = pd.DataFrame(summary_list)\n",
        "summary_df.to_csv('openface_summary_all_participants.csv', index=False)\n",
        "print(\"Summary CSV created with shape:\", summary_df.shape)\n"
      ],
      "metadata": {
        "colab": {
          "base_uri": "https://localhost:8080/"
        },
        "id": "H71kcWY3CxzV",
        "outputId": "e1ef8eed-cce8-4f26-9493-71b76cf3b0d4"
      },
      "execution_count": null,
      "outputs": [
        {
          "output_type": "stream",
          "name": "stdout",
          "text": [
            "Summary CSV created with shape: (275, 197)\n"
          ]
        }
      ]
    },
    {
      "cell_type": "code",
      "source": [
        "import pandas as pd\n",
        "\n",
        "# Load CSVs\n",
        "participant_summary_path = 'participant_summary_.csv'\n",
        "openface_summary_path = 'openface_summary_cleaned.csv'\n",
        "\n",
        "participants_df = pd.read_csv(participant_summary_path)\n",
        "openface_summary_df = pd.read_csv(openface_summary_path)\n",
        "\n",
        "# Assuming 'participant_id' is the column in both files (adjust if needed)\n",
        "participant_ids = set(participants_df['participant_id'].astype(str))\n",
        "openface_ids = set(openface_summary_df['participant_id'].astype(str))\n",
        "\n",
        "# Check if all openface participants exist in participant summary\n",
        "missing_in_summary = openface_ids - participant_ids\n",
        "\n",
        "if missing_in_summary:\n",
        "    print(f\"Participants present in OpenFace summary but missing in participant summary: {len(missing_in_summary)}\")\n",
        "    print(missing_in_summary)\n",
        "else:\n",
        "    print(\"All participants in OpenFace summary are present in participant summary CSV.\")\n"
      ],
      "metadata": {
        "colab": {
          "base_uri": "https://localhost:8080/"
        },
        "id": "c8qwlWCjGmQb",
        "outputId": "fb8905e8-cc05-491d-bed6-fa36492244e5"
      },
      "execution_count": null,
      "outputs": [
        {
          "output_type": "stream",
          "name": "stdout",
          "text": [
            "All participants in OpenFace summary are present in participant summary CSV.\n"
          ]
        }
      ]
    },
    {
      "cell_type": "code",
      "source": [
        "import pandas as pd\n",
        "\n",
        "# Load the CSV\n",
        "file_path = 'openface_summary_all_participants.csv'\n",
        "df = pd.read_csv(file_path)\n",
        "\n",
        "# Show columns for confirmation\n",
        "print(\"Original columns:\", df.columns.tolist())\n",
        "\n",
        "# Get the name of the last column\n",
        "last_col = df.columns[-1]\n",
        "\n",
        "# Extract the participant_id as the numeric part at the start of last_col's values\n",
        "# For example, from \"300_someOtherText\" keep \"300\"\n",
        "# Assuming participant_id is the digits at the start before any non-digit characters\n",
        "df['participant_id'] = df[last_col].astype(str).str.extract(r'^(\\d+)')\n",
        "\n",
        "# Reorder columns: participant_id first, then all except the last column\n",
        "cols = ['participant_id'] + list(df.columns[:-1])\n",
        "\n",
        "df = df[cols]\n",
        "\n",
        "# Optional: sort by participant_id (convert to int for sorting)\n",
        "df['participant_id'] = df['participant_id'].astype(int)\n",
        "df = df.sort_values(by='participant_id').reset_index(drop=True)\n",
        "\n",
        "# Save cleaned CSV\n",
        "df.to_csv('openface_summary_cleaned.csv', index=False)\n",
        "\n",
        "print(\"Cleaned CSV saved with participant_id as first column.\")\n",
        "print(df.head())\n"
      ],
      "metadata": {
        "colab": {
          "base_uri": "https://localhost:8080/"
        },
        "id": "bTbIhJfSIWwL",
        "outputId": "e366e7d8-113c-43ca-ac8a-94a89b8c441e"
      },
      "execution_count": null,
      "outputs": [
        {
          "output_type": "stream",
          "name": "stdout",
          "text": [
            "Original columns: ['pose_Tx_mean', 'pose_Tx_std', 'pose_Tx_min', 'pose_Tx_max', 'pose_Ty_mean', 'pose_Ty_std', 'pose_Ty_min', 'pose_Ty_max', 'pose_Tz_mean', 'pose_Tz_std', 'pose_Tz_min', 'pose_Tz_max', 'pose_Rx_mean', 'pose_Rx_std', 'pose_Rx_min', 'pose_Rx_max', 'pose_Ry_mean', 'pose_Ry_std', 'pose_Ry_min', 'pose_Ry_max', 'pose_Rz_mean', 'pose_Rz_std', 'pose_Rz_min', 'pose_Rz_max', 'gaze_0_x_mean', 'gaze_0_x_std', 'gaze_0_x_min', 'gaze_0_x_max', 'gaze_0_y_mean', 'gaze_0_y_std', 'gaze_0_y_min', 'gaze_0_y_max', 'gaze_0_z_mean', 'gaze_0_z_std', 'gaze_0_z_min', 'gaze_0_z_max', 'gaze_1_x_mean', 'gaze_1_x_std', 'gaze_1_x_min', 'gaze_1_x_max', 'gaze_1_y_mean', 'gaze_1_y_std', 'gaze_1_y_min', 'gaze_1_y_max', 'gaze_1_z_mean', 'gaze_1_z_std', 'gaze_1_z_min', 'gaze_1_z_max', 'gaze_angle_x_mean', 'gaze_angle_x_std', 'gaze_angle_x_min', 'gaze_angle_x_max', 'gaze_angle_y_mean', 'gaze_angle_y_std', 'gaze_angle_y_min', 'gaze_angle_y_max', 'AU01_r_mean', 'AU01_r_std', 'AU01_r_min', 'AU01_r_max', 'AU02_r_mean', 'AU02_r_std', 'AU02_r_min', 'AU02_r_max', 'AU04_r_mean', 'AU04_r_std', 'AU04_r_min', 'AU04_r_max', 'AU05_r_mean', 'AU05_r_std', 'AU05_r_min', 'AU05_r_max', 'AU06_r_mean', 'AU06_r_std', 'AU06_r_min', 'AU06_r_max', 'AU07_r_mean', 'AU07_r_std', 'AU07_r_min', 'AU07_r_max', 'AU09_r_mean', 'AU09_r_std', 'AU09_r_min', 'AU09_r_max', 'AU10_r_mean', 'AU10_r_std', 'AU10_r_min', 'AU10_r_max', 'AU12_r_mean', 'AU12_r_std', 'AU12_r_min', 'AU12_r_max', 'AU14_r_mean', 'AU14_r_std', 'AU14_r_min', 'AU14_r_max', 'AU15_r_mean', 'AU15_r_std', 'AU15_r_min', 'AU15_r_max', 'AU17_r_mean', 'AU17_r_std', 'AU17_r_min', 'AU17_r_max', 'AU20_r_mean', 'AU20_r_std', 'AU20_r_min', 'AU20_r_max', 'AU23_r_mean', 'AU23_r_std', 'AU23_r_min', 'AU23_r_max', 'AU25_r_mean', 'AU25_r_std', 'AU25_r_min', 'AU25_r_max', 'AU26_r_mean', 'AU26_r_std', 'AU26_r_min', 'AU26_r_max', 'AU45_r_mean', 'AU45_r_std', 'AU45_r_min', 'AU45_r_max', 'AU01_c_mean', 'AU01_c_std', 'AU01_c_min', 'AU01_c_max', 'AU02_c_mean', 'AU02_c_std', 'AU02_c_min', 'AU02_c_max', 'AU04_c_mean', 'AU04_c_std', 'AU04_c_min', 'AU04_c_max', 'AU05_c_mean', 'AU05_c_std', 'AU05_c_min', 'AU05_c_max', 'AU06_c_mean', 'AU06_c_std', 'AU06_c_min', 'AU06_c_max', 'AU07_c_mean', 'AU07_c_std', 'AU07_c_min', 'AU07_c_max', 'AU09_c_mean', 'AU09_c_std', 'AU09_c_min', 'AU09_c_max', 'AU10_c_mean', 'AU10_c_std', 'AU10_c_min', 'AU10_c_max', 'AU12_c_mean', 'AU12_c_std', 'AU12_c_min', 'AU12_c_max', 'AU14_c_mean', 'AU14_c_std', 'AU14_c_min', 'AU14_c_max', 'AU15_c_mean', 'AU15_c_std', 'AU15_c_min', 'AU15_c_max', 'AU17_c_mean', 'AU17_c_std', 'AU17_c_min', 'AU17_c_max', 'AU20_c_mean', 'AU20_c_std', 'AU20_c_min', 'AU20_c_max', 'AU23_c_mean', 'AU23_c_std', 'AU23_c_min', 'AU23_c_max', 'AU25_c_mean', 'AU25_c_std', 'AU25_c_min', 'AU25_c_max', 'AU26_c_mean', 'AU26_c_std', 'AU26_c_min', 'AU26_c_max', 'AU28_c_mean', 'AU28_c_std', 'AU28_c_min', 'AU28_c_max', 'AU45_c_mean', 'AU45_c_std', 'AU45_c_min', 'AU45_c_max', 'participant_id']\n",
            "Cleaned CSV saved with participant_id as first column.\n",
            "   participant_id  pose_Tx_mean  pose_Tx_std  pose_Tx_min  pose_Tx_max  \\\n",
            "0             300     15.541348    18.174247       -122.2        200.7   \n",
            "1             301     28.660798    12.601746         -4.1        268.7   \n",
            "2             302     15.499304    28.055539        -70.5        170.1   \n",
            "3             303     16.972864    26.698229        -65.1        225.5   \n",
            "4             304    103.286137    17.234732         19.0        219.7   \n",
            "\n",
            "   pose_Ty_mean  pose_Ty_std  pose_Ty_min  pose_Ty_max  pose_Tz_mean  ...  \\\n",
            "0     52.096966    21.035559        -74.6        173.5    546.162770  ...   \n",
            "1     22.343327    12.894528       -241.1        173.0    661.191506  ...   \n",
            "2     34.153088    17.213069        -59.4        148.0    544.622505  ...   \n",
            "3     72.953007    13.302018        -23.0        183.2    756.669034  ...   \n",
            "4     48.460988    20.430154         -0.2        184.7    633.109375  ...   \n",
            "\n",
            "   AU26_c_min  AU26_c_max  AU28_c_mean  AU28_c_std  AU28_c_min  AU28_c_max  \\\n",
            "0         0.0         1.0     0.016304    0.126644         0.0         1.0   \n",
            "1         0.0         1.0     0.013155    0.113942         0.0         1.0   \n",
            "2         0.0         1.0     0.021231    0.144158         0.0         1.0   \n",
            "3         0.0         1.0     0.007381    0.085596         0.0         1.0   \n",
            "4         0.0         1.0     0.032873    0.178308         0.0         1.0   \n",
            "\n",
            "   AU45_c_mean  AU45_c_std  AU45_c_min  AU45_c_max  \n",
            "0     0.285419    0.451626         0.0         1.0  \n",
            "1     0.281213    0.449600         0.0         1.0  \n",
            "2     0.203686    0.402747         0.0         1.0  \n",
            "3     0.296599    0.456766         0.0         1.0  \n",
            "4     0.285385    0.451607         0.0         1.0  \n",
            "\n",
            "[5 rows x 197 columns]\n"
          ]
        }
      ]
    },
    {
      "cell_type": "code",
      "source": [
        "import pandas as pd\n",
        "\n",
        "# Load the participant summary CSV\n",
        "participant_path = 'participant_summary_.csv'\n",
        "df = pd.read_csv(participant_path)\n",
        "\n",
        "# Find the position/index of the first column starting with 'openface_f1_mean'\n",
        "cols = df.columns.tolist()\n",
        "start_index = None\n",
        "for i, col in enumerate(cols):\n",
        "    if col.startswith('openface_f1_mean'):\n",
        "        start_index = i\n",
        "        break\n",
        "\n",
        "if start_index is not None:\n",
        "    # Keep columns before this index only\n",
        "    df_reduced = df.iloc[:, :start_index]\n",
        "else:\n",
        "    # If no such column found, keep all columns\n",
        "    df_reduced = df\n",
        "\n",
        "print(f\"Original columns: {len(cols)}\")\n",
        "print(f\"Columns after removing from 'openface_f1_mean' onwards: {df_reduced.shape[1]}\")\n",
        "\n",
        "# Save the reduced dataframe if needed\n",
        "df_reduced.to_csv('participant_summary_reduced.csv', index=False)\n",
        "\n",
        "print(\"Reduced participant summary saved.\")\n",
        "print(df_reduced.head())\n"
      ],
      "metadata": {
        "colab": {
          "base_uri": "https://localhost:8080/"
        },
        "id": "0CuA2oFSImtD",
        "outputId": "2d1bd9cd-4025-4e82-9e30-6c24771de9c7"
      },
      "execution_count": null,
      "outputs": [
        {
          "output_type": "stream",
          "name": "stdout",
          "text": [
            "Original columns: 1218\n",
            "Columns after removing from 'openface_f1_mean' onwards: 801\n",
            "Reduced participant summary saved.\n",
            "   participant_id  eGeMAPS_f1_mean  eGeMAPS_f1_std  eGeMAPS_f1_min  \\\n",
            "0             300         0.339651        0.412770               0   \n",
            "1             301         0.417114        0.383984               0   \n",
            "2             302         0.431654        0.399046               0   \n",
            "3             303         0.688838        0.391137               0   \n",
            "4             304         0.594773        0.377326               0   \n",
            "\n",
            "   eGeMAPS_f1_max  eGeMAPS_f2_mean  eGeMAPS_f2_std  eGeMAPS_f2_min  \\\n",
            "0        1.633468         0.309486        0.527131               0   \n",
            "1        1.462398         0.508682        0.565141               0   \n",
            "2        1.414973         0.008801        0.083450               0   \n",
            "3        1.544068         1.028125        0.639955               0   \n",
            "4        1.477121         0.658804        0.659056               0   \n",
            "\n",
            "   eGeMAPS_f2_max  eGeMAPS_f3_mean  ...  MFCC_f98_min  MFCC_f98_max  \\\n",
            "0        2.008600         0.098401  ...             0      0.602060   \n",
            "1        1.963788         0.048905  ...             0      0.778151   \n",
            "2        1.041393         0.070662  ...             0      0.698970   \n",
            "3        2.037427         0.041777  ...             0      1.041393   \n",
            "4        1.977724         0.043229  ...             0      0.954242   \n",
            "\n",
            "   MFCC_f99_mean  MFCC_f99_std  MFCC_f99_min  MFCC_f99_max  MFCC_f100_mean  \\\n",
            "0       0.444912      0.422663             0      1.491362        0.542608   \n",
            "1       0.790037      0.467075             0      1.653212        0.581503   \n",
            "2       0.329967      0.317645             0      1.204120        0.451053   \n",
            "3       1.040260      0.503814             0      1.826075        0.744497   \n",
            "4       0.581079      0.485558             0      1.826075        0.760611   \n",
            "\n",
            "   MFCC_f100_std  MFCC_f100_min  MFCC_f100_max  \n",
            "0       0.359292              0       1.462398  \n",
            "1       0.324784              0       1.462398  \n",
            "2       0.319770              0       1.301030  \n",
            "3       0.292152              0       1.414973  \n",
            "4       0.260609              0       1.431364  \n",
            "\n",
            "[5 rows x 801 columns]\n"
          ]
        }
      ]
    },
    {
      "cell_type": "code",
      "source": [
        "import pandas as pd\n",
        "\n",
        "# Load CSVs\n",
        "participant_reduced_path = 'participant_summary_reduced.csv'  # file from previous step\n",
        "openface_cleaned_path = 'openface_summary_cleaned.csv'\n",
        "transcript_summary_path = 'transcript_summary_all.csv'\n",
        "\n",
        "participant_df = pd.read_csv(participant_reduced_path)\n",
        "openface_df = pd.read_csv(openface_cleaned_path)\n",
        "transcript_df = pd.read_csv(transcript_summary_path)\n",
        "\n",
        "# Check participant_id column names (adjust if different)\n",
        "print(\"Participant columns in each file:\")\n",
        "print(\"Participant reduced:\", participant_df.columns[0])\n",
        "print(\"OpenFace cleaned:\", openface_df.columns[0])\n",
        "print(\"Transcript summary:\", transcript_df.columns[0])\n",
        "\n",
        "# Merge participant reduced with openface features\n",
        "merged_df = participant_df.merge(openface_df, on='participant_id', how='left')\n",
        "\n",
        "# Merge the above with transcript features\n",
        "merged_df = merged_df.merge(transcript_df, on='participant_id', how='left')\n",
        "\n",
        "# Save final merged CSV\n",
        "merged_df.to_csv('final_merged_summary.csv', index=False)\n",
        "\n",
        "print(\"Final merged CSV saved with shape:\", merged_df.shape)\n",
        "print(merged_df.head())\n"
      ],
      "metadata": {
        "colab": {
          "base_uri": "https://localhost:8080/"
        },
        "id": "4l8suwD9LZha",
        "outputId": "7fd79e25-b284-4dd9-a11a-0abcc5d3fc6e"
      },
      "execution_count": null,
      "outputs": [
        {
          "output_type": "stream",
          "name": "stdout",
          "text": [
            "Participant columns in each file:\n",
            "Participant reduced: participant_id\n",
            "OpenFace cleaned: participant_id\n",
            "Transcript summary: participant_id\n",
            "Final merged CSV saved with shape: (275, 1014)\n",
            "   participant_id  eGeMAPS_f1_mean  eGeMAPS_f1_std  eGeMAPS_f1_min  \\\n",
            "0             300         0.339651        0.412770               0   \n",
            "1             301         0.417114        0.383984               0   \n",
            "2             302         0.431654        0.399046               0   \n",
            "3             303         0.688838        0.391137               0   \n",
            "4             304         0.594773        0.377326               0   \n",
            "\n",
            "   eGeMAPS_f1_max  eGeMAPS_f2_mean  eGeMAPS_f2_std  eGeMAPS_f2_min  \\\n",
            "0        1.633468         0.309486        0.527131               0   \n",
            "1        1.462398         0.508682        0.565141               0   \n",
            "2        1.414973         0.008801        0.083450               0   \n",
            "3        1.544068         1.028125        0.639955               0   \n",
            "4        1.477121         0.658804        0.659056               0   \n",
            "\n",
            "   eGeMAPS_f2_max  eGeMAPS_f3_mean  ...  lexical_diversity  \\\n",
            "0        2.008600         0.098401  ...           0.336842   \n",
            "1        1.963788         0.048905  ...           0.238649   \n",
            "2        1.041393         0.070662  ...           0.330756   \n",
            "3        2.037427         0.041777  ...           0.211736   \n",
            "4        1.977724         0.043229  ...           0.269373   \n",
            "\n",
            "   first_person_pronoun_count  negation_count  sleep_word_count  \\\n",
            "0                          62               9                 1   \n",
            "1                         150              23                 1   \n",
            "2                          81              13                 1   \n",
            "3                         164              16                 6   \n",
            "4                         120              21                 4   \n",
            "\n",
            "   appetite_word_count  depression_word_count  anxiety_word_count  \\\n",
            "0                    0                      2                   1   \n",
            "1                    0                      3                   1   \n",
            "2                    2                      2                   2   \n",
            "3                    1                      3                   2   \n",
            "4                    0                      1                   1   \n",
            "\n",
            "   stress_word_count  ptsd_word_count  harm_word_count  \n",
            "0                  0                1                2  \n",
            "1                  1                3                2  \n",
            "2                  0                1                2  \n",
            "3                  1                3                1  \n",
            "4                  0                2                1  \n",
            "\n",
            "[5 rows x 1014 columns]\n"
          ]
        }
      ]
    },
    {
      "cell_type": "code",
      "source": [
        "import pandas as pd\n",
        "\n",
        "# Load the final merged CSV\n",
        "file_path = 'final_merged_summary.csv'\n",
        "df = pd.read_csv(file_path)\n",
        "\n",
        "# Check for missing values\n",
        "missing_summary = df.isnull().sum()\n",
        "\n",
        "# Count total missing values per column and overall\n",
        "total_missing = missing_summary.sum()\n",
        "columns_with_missing = missing_summary[missing_summary > 0]\n",
        "\n",
        "print(f\"Total missing values in dataset: {total_missing}\")\n",
        "print(f\"Columns with missing values and their counts:\")\n",
        "print(columns_with_missing)\n",
        "\n",
        "# Optionally, show percentage missing per column\n",
        "missing_percent = (columns_with_missing / len(df)) * 100\n",
        "print(\"\\nPercentage of missing values per column:\")\n",
        "print(missing_percent)\n",
        "\n",
        "# If you want, display the top few rows with missing values\n",
        "rows_with_missing = df[df.isnull().any(axis=1)]\n",
        "print(f\"\\nNumber of rows with missing values: {len(rows_with_missing)}\")\n",
        "print(rows_with_missing.head())\n"
      ],
      "metadata": {
        "colab": {
          "base_uri": "https://localhost:8080/"
        },
        "id": "obXjZ1cOL_p6",
        "outputId": "21933b0e-80cf-4ce1-a210-49a0f25dbcf4"
      },
      "execution_count": null,
      "outputs": [
        {
          "output_type": "stream",
          "name": "stdout",
          "text": [
            "Total missing values in dataset: 0\n",
            "Columns with missing values and their counts:\n",
            "Series([], dtype: int64)\n",
            "\n",
            "Percentage of missing values per column:\n",
            "Series([], dtype: float64)\n",
            "\n",
            "Number of rows with missing values: 0\n",
            "Empty DataFrame\n",
            "Columns: [participant_id, eGeMAPS_f1_mean, eGeMAPS_f1_std, eGeMAPS_f1_min, eGeMAPS_f1_max, eGeMAPS_f2_mean, eGeMAPS_f2_std, eGeMAPS_f2_min, eGeMAPS_f2_max, eGeMAPS_f3_mean, eGeMAPS_f3_std, eGeMAPS_f3_min, eGeMAPS_f3_max, eGeMAPS_f4_mean, eGeMAPS_f4_std, eGeMAPS_f4_min, eGeMAPS_f4_max, eGeMAPS_f5_mean, eGeMAPS_f5_std, eGeMAPS_f5_min, eGeMAPS_f5_max, eGeMAPS_f6_mean, eGeMAPS_f6_std, eGeMAPS_f6_min, eGeMAPS_f6_max, eGeMAPS_f7_mean, eGeMAPS_f7_std, eGeMAPS_f7_min, eGeMAPS_f7_max, eGeMAPS_f8_mean, eGeMAPS_f8_std, eGeMAPS_f8_min, eGeMAPS_f8_max, eGeMAPS_f9_mean, eGeMAPS_f9_std, eGeMAPS_f9_min, eGeMAPS_f9_max, eGeMAPS_f10_mean, eGeMAPS_f10_std, eGeMAPS_f10_min, eGeMAPS_f10_max, eGeMAPS_f11_mean, eGeMAPS_f11_std, eGeMAPS_f11_min, eGeMAPS_f11_max, eGeMAPS_f12_mean, eGeMAPS_f12_std, eGeMAPS_f12_min, eGeMAPS_f12_max, eGeMAPS_f13_mean, eGeMAPS_f13_std, eGeMAPS_f13_min, eGeMAPS_f13_max, eGeMAPS_f14_mean, eGeMAPS_f14_std, eGeMAPS_f14_min, eGeMAPS_f14_max, eGeMAPS_f15_mean, eGeMAPS_f15_std, eGeMAPS_f15_min, eGeMAPS_f15_max, eGeMAPS_f16_mean, eGeMAPS_f16_std, eGeMAPS_f16_min, eGeMAPS_f16_max, eGeMAPS_f17_mean, eGeMAPS_f17_std, eGeMAPS_f17_min, eGeMAPS_f17_max, eGeMAPS_f18_mean, eGeMAPS_f18_std, eGeMAPS_f18_min, eGeMAPS_f18_max, eGeMAPS_f19_mean, eGeMAPS_f19_std, eGeMAPS_f19_min, eGeMAPS_f19_max, eGeMAPS_f20_mean, eGeMAPS_f20_std, eGeMAPS_f20_min, eGeMAPS_f20_max, eGeMAPS_f21_mean, eGeMAPS_f21_std, eGeMAPS_f21_min, eGeMAPS_f21_max, eGeMAPS_f22_mean, eGeMAPS_f22_std, eGeMAPS_f22_min, eGeMAPS_f22_max, eGeMAPS_f23_mean, eGeMAPS_f23_std, eGeMAPS_f23_min, eGeMAPS_f23_max, eGeMAPS_f24_mean, eGeMAPS_f24_std, eGeMAPS_f24_min, eGeMAPS_f24_max, eGeMAPS_f25_mean, eGeMAPS_f25_std, eGeMAPS_f25_min, ...]\n",
            "Index: []\n",
            "\n",
            "[0 rows x 1014 columns]\n"
          ]
        }
      ]
    },
    {
      "cell_type": "code",
      "source": [
        "import pandas as pd\n",
        "\n",
        "# Load your file\n",
        "df = pd.read_csv('final_merged_summary.csv')\n",
        "\n",
        "# AU mapping dictionary\n",
        "au_map = {\n",
        "    'AU01': 'Inner_Brow_Raiser',\n",
        "    'AU02': 'Outer_Brow_Raiser',\n",
        "    'AU04': 'Brow_Lowerer',\n",
        "    'AU05': 'Upper_Lid_Raiser',\n",
        "    'AU06': 'Cheek_Raiser',\n",
        "    'AU07': 'Lid_Tightener',\n",
        "    'AU09': 'Nose_Wrinkler',\n",
        "    'AU10': 'Upper_Lip_Raiser',\n",
        "    'AU12': 'Lip_Corner_Puller',\n",
        "    'AU14': 'Dimpler',\n",
        "    'AU15': 'Lip_Corner_Depressor',\n",
        "    'AU17': 'Chin_Raiser',\n",
        "    'AU20': 'Lip_Stretcher',\n",
        "    'AU23': 'Lip_Tightener',\n",
        "    'AU25': 'Lips_Part',\n",
        "    'AU26': 'Jaw_Drop',\n",
        "    'AU28': 'Lip_Suck',\n",
        "    'AU45': 'Blink'\n",
        "}\n",
        "\n",
        "def rename_openface_column(col):\n",
        "    # Pose\n",
        "    if col.startswith('pose_Tx'): return col.replace('pose_Tx', 'head_pos_x')\n",
        "    if col.startswith('pose_Ty'): return col.replace('pose_Ty', 'head_pos_y')\n",
        "    if col.startswith('pose_Tz'): return col.replace('pose_Tz', 'head_pos_z')\n",
        "    if col.startswith('pose_Rx'): return col.replace('pose_Rx', 'head_rot_x')\n",
        "    if col.startswith('pose_Ry'): return col.replace('pose_Ry', 'head_rot_y')\n",
        "    if col.startswith('pose_Rz'): return col.replace('pose_Rz', 'head_rot_z')\n",
        "\n",
        "    # Gaze\n",
        "    if col.startswith('gaze_0_'): return col.replace('gaze_0_', 'left_gaze_')\n",
        "    if col.startswith('gaze_1_'): return col.replace('gaze_1_', 'right_gaze_')\n",
        "\n",
        "    # AU renaming\n",
        "    for au_key, au_name in au_map.items():\n",
        "        if col.startswith(au_key):\n",
        "            # Remove '_r' or other suffixes, and append the statistic if any\n",
        "            suffix = col[len(au_key):]  # e.g. '_mean', '_std'\n",
        "            # Clean suffix for better naming if needed\n",
        "            return au_name + suffix\n",
        "\n",
        "    return col\n",
        "\n",
        "# Rename columns\n",
        "df.columns = [rename_openface_column(c) for c in df.columns]\n",
        "\n",
        "# Save file with renamed columns\n",
        "df.to_csv('final_merged_summary_renamed_AUs.csv', index=False)\n",
        "\n",
        "print(\"Renamed columns with meaningful AU names. Sample:\")\n",
        "print(df.columns[:30])\n"
      ],
      "metadata": {
        "id": "JZIFUWF6Md7h",
        "outputId": "2c90fae3-19f0-4eb6-846a-c09ec5deb99a",
        "colab": {
          "base_uri": "https://localhost:8080/"
        }
      },
      "execution_count": null,
      "outputs": [
        {
          "output_type": "stream",
          "name": "stdout",
          "text": [
            "Renamed columns with meaningful AU names. Sample:\n",
            "Index(['participant_id', 'eGeMAPS_f1_mean', 'eGeMAPS_f1_std', 'eGeMAPS_f1_min',\n",
            "       'eGeMAPS_f1_max', 'eGeMAPS_f2_mean', 'eGeMAPS_f2_std', 'eGeMAPS_f2_min',\n",
            "       'eGeMAPS_f2_max', 'eGeMAPS_f3_mean', 'eGeMAPS_f3_std', 'eGeMAPS_f3_min',\n",
            "       'eGeMAPS_f3_max', 'eGeMAPS_f4_mean', 'eGeMAPS_f4_std', 'eGeMAPS_f4_min',\n",
            "       'eGeMAPS_f4_max', 'eGeMAPS_f5_mean', 'eGeMAPS_f5_std', 'eGeMAPS_f5_min',\n",
            "       'eGeMAPS_f5_max', 'eGeMAPS_f6_mean', 'eGeMAPS_f6_std', 'eGeMAPS_f6_min',\n",
            "       'eGeMAPS_f6_max', 'eGeMAPS_f7_mean', 'eGeMAPS_f7_std', 'eGeMAPS_f7_min',\n",
            "       'eGeMAPS_f7_max', 'eGeMAPS_f8_mean'],\n",
            "      dtype='object')\n"
          ]
        }
      ]
    }
  ]
}